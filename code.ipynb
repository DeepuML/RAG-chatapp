{
 "cells": [
  {
   "cell_type": "code",
   "execution_count": 202,
   "id": "2c570e41",
   "metadata": {},
   "outputs": [
    {
     "name": "stdout",
     "output_type": "stream",
     "text": [
      "Requirement already satisfied: langchain in c:\\users\\deepu\\anaconda3\\envs\\gpu-py310\\lib\\site-packages (0.3.25)\n",
      "Requirement already satisfied: faiss-cpu in c:\\users\\deepu\\anaconda3\\envs\\gpu-py310\\lib\\site-packages (1.11.0)\n",
      "Requirement already satisfied: requests in c:\\users\\deepu\\appdata\\roaming\\python\\python310\\site-packages (2.32.3)\n",
      "Requirement already satisfied: beautifulsoup4 in c:\\users\\deepu\\appdata\\roaming\\python\\python310\\site-packages (4.13.3)\n",
      "Requirement already satisfied: langchain-core<1.0.0,>=0.3.58 in c:\\users\\deepu\\anaconda3\\envs\\gpu-py310\\lib\\site-packages (from langchain) (0.3.65)\n",
      "Requirement already satisfied: langchain-text-splitters<1.0.0,>=0.3.8 in c:\\users\\deepu\\anaconda3\\envs\\gpu-py310\\lib\\site-packages (from langchain) (0.3.8)\n",
      "Requirement already satisfied: langsmith<0.4,>=0.1.17 in c:\\users\\deepu\\anaconda3\\envs\\gpu-py310\\lib\\site-packages (from langchain) (0.3.45)\n",
      "Requirement already satisfied: pydantic<3.0.0,>=2.7.4 in c:\\users\\deepu\\anaconda3\\envs\\gpu-py310\\lib\\site-packages (from langchain) (2.11.4)\n",
      "Requirement already satisfied: SQLAlchemy<3,>=1.4 in c:\\users\\deepu\\anaconda3\\envs\\gpu-py310\\lib\\site-packages (from langchain) (2.0.41)\n",
      "Requirement already satisfied: PyYAML>=5.3 in c:\\users\\deepu\\appdata\\roaming\\python\\python310\\site-packages (from langchain) (6.0.2)\n",
      "Requirement already satisfied: async-timeout<5.0.0,>=4.0.0 in c:\\users\\deepu\\anaconda3\\envs\\gpu-py310\\lib\\site-packages (from langchain) (4.0.3)\n",
      "Requirement already satisfied: charset-normalizer<4,>=2 in c:\\users\\deepu\\appdata\\roaming\\python\\python310\\site-packages (from requests) (3.4.1)\n",
      "Requirement already satisfied: idna<4,>=2.5 in c:\\users\\deepu\\appdata\\roaming\\python\\python310\\site-packages (from requests) (3.10)\n",
      "Requirement already satisfied: urllib3<3,>=1.21.1 in c:\\users\\deepu\\appdata\\roaming\\python\\python310\\site-packages (from requests) (2.3.0)\n",
      "Requirement already satisfied: certifi>=2017.4.17 in c:\\users\\deepu\\appdata\\roaming\\python\\python310\\site-packages (from requests) (2025.1.31)\n",
      "Requirement already satisfied: tenacity!=8.4.0,<10.0.0,>=8.1.0 in c:\\users\\deepu\\anaconda3\\envs\\gpu-py310\\lib\\site-packages (from langchain-core<1.0.0,>=0.3.58->langchain) (9.1.2)\n",
      "Requirement already satisfied: jsonpatch<2.0,>=1.33 in c:\\users\\deepu\\anaconda3\\envs\\gpu-py310\\lib\\site-packages (from langchain-core<1.0.0,>=0.3.58->langchain) (1.33)\n",
      "Requirement already satisfied: packaging<25,>=23.2 in c:\\users\\deepu\\appdata\\roaming\\python\\python310\\site-packages (from langchain-core<1.0.0,>=0.3.58->langchain) (24.2)\n",
      "Requirement already satisfied: typing-extensions>=4.7 in c:\\users\\deepu\\anaconda3\\envs\\gpu-py310\\lib\\site-packages (from langchain-core<1.0.0,>=0.3.58->langchain) (4.13.2)\n",
      "Requirement already satisfied: jsonpointer>=1.9 in c:\\users\\deepu\\appdata\\roaming\\python\\python310\\site-packages (from jsonpatch<2.0,>=1.33->langchain-core<1.0.0,>=0.3.58->langchain) (3.0.0)\n",
      "Requirement already satisfied: httpx<1,>=0.23.0 in c:\\users\\deepu\\appdata\\roaming\\python\\python310\\site-packages (from langsmith<0.4,>=0.1.17->langchain) (0.28.1)\n",
      "Requirement already satisfied: orjson<4.0.0,>=3.9.14 in c:\\users\\deepu\\anaconda3\\envs\\gpu-py310\\lib\\site-packages (from langsmith<0.4,>=0.1.17->langchain) (3.10.18)\n",
      "Requirement already satisfied: requests-toolbelt<2.0.0,>=1.0.0 in c:\\users\\deepu\\anaconda3\\envs\\gpu-py310\\lib\\site-packages (from langsmith<0.4,>=0.1.17->langchain) (1.0.0)\n",
      "Requirement already satisfied: zstandard<0.24.0,>=0.23.0 in c:\\users\\deepu\\anaconda3\\envs\\gpu-py310\\lib\\site-packages (from langsmith<0.4,>=0.1.17->langchain) (0.23.0)\n",
      "Requirement already satisfied: anyio in c:\\users\\deepu\\appdata\\roaming\\python\\python310\\site-packages (from httpx<1,>=0.23.0->langsmith<0.4,>=0.1.17->langchain) (4.8.0)\n",
      "Requirement already satisfied: httpcore==1.* in c:\\users\\deepu\\appdata\\roaming\\python\\python310\\site-packages (from httpx<1,>=0.23.0->langsmith<0.4,>=0.1.17->langchain) (1.0.7)\n",
      "Requirement already satisfied: h11<0.15,>=0.13 in c:\\users\\deepu\\appdata\\roaming\\python\\python310\\site-packages (from httpcore==1.*->httpx<1,>=0.23.0->langsmith<0.4,>=0.1.17->langchain) (0.14.0)\n",
      "Requirement already satisfied: annotated-types>=0.6.0 in c:\\users\\deepu\\anaconda3\\envs\\gpu-py310\\lib\\site-packages (from pydantic<3.0.0,>=2.7.4->langchain) (0.7.0)\n",
      "Requirement already satisfied: pydantic-core==2.33.2 in c:\\users\\deepu\\anaconda3\\envs\\gpu-py310\\lib\\site-packages (from pydantic<3.0.0,>=2.7.4->langchain) (2.33.2)\n",
      "Requirement already satisfied: typing-inspection>=0.4.0 in c:\\users\\deepu\\anaconda3\\envs\\gpu-py310\\lib\\site-packages (from pydantic<3.0.0,>=2.7.4->langchain) (0.4.0)\n",
      "Requirement already satisfied: greenlet>=1 in c:\\users\\deepu\\anaconda3\\envs\\gpu-py310\\lib\\site-packages (from SQLAlchemy<3,>=1.4->langchain) (3.2.3)\n",
      "Requirement already satisfied: numpy<3.0,>=1.25.0 in c:\\users\\deepu\\anaconda3\\envs\\gpu-py310\\lib\\site-packages (from faiss-cpu) (2.1.3)\n",
      "Requirement already satisfied: soupsieve>1.2 in c:\\users\\deepu\\appdata\\roaming\\python\\python310\\site-packages (from beautifulsoup4) (2.6)\n",
      "Requirement already satisfied: exceptiongroup>=1.0.2 in c:\\users\\deepu\\appdata\\roaming\\python\\python310\\site-packages (from anyio->httpx<1,>=0.23.0->langsmith<0.4,>=0.1.17->langchain) (1.2.2)\n",
      "Requirement already satisfied: sniffio>=1.1 in c:\\users\\deepu\\appdata\\roaming\\python\\python310\\site-packages (from anyio->httpx<1,>=0.23.0->langsmith<0.4,>=0.1.17->langchain) (1.3.1)\n",
      "Requirement already satisfied: euriai in c:\\users\\deepu\\anaconda3\\envs\\gpu-py310\\lib\\site-packages (0.3.30)\n",
      "Requirement already satisfied: requests in c:\\users\\deepu\\appdata\\roaming\\python\\python310\\site-packages (from euriai) (2.32.3)\n",
      "Requirement already satisfied: langchain-core in c:\\users\\deepu\\anaconda3\\envs\\gpu-py310\\lib\\site-packages (from euriai) (0.3.65)\n",
      "Requirement already satisfied: llama-index>=0.10.0 in c:\\users\\deepu\\anaconda3\\envs\\gpu-py310\\lib\\site-packages (from euriai) (0.12.42)\n",
      "Requirement already satisfied: numpy in c:\\users\\deepu\\anaconda3\\envs\\gpu-py310\\lib\\site-packages (from euriai) (2.1.3)\n",
      "Requirement already satisfied: llama-index-agent-openai<0.5,>=0.4.0 in c:\\users\\deepu\\anaconda3\\envs\\gpu-py310\\lib\\site-packages (from llama-index>=0.10.0->euriai) (0.4.11)\n",
      "Requirement already satisfied: llama-index-cli<0.5,>=0.4.2 in c:\\users\\deepu\\anaconda3\\envs\\gpu-py310\\lib\\site-packages (from llama-index>=0.10.0->euriai) (0.4.3)\n",
      "Requirement already satisfied: llama-index-core<0.13,>=0.12.42 in c:\\users\\deepu\\anaconda3\\envs\\gpu-py310\\lib\\site-packages (from llama-index>=0.10.0->euriai) (0.12.42)\n",
      "Requirement already satisfied: llama-index-embeddings-openai<0.4,>=0.3.0 in c:\\users\\deepu\\anaconda3\\envs\\gpu-py310\\lib\\site-packages (from llama-index>=0.10.0->euriai) (0.3.1)\n",
      "Requirement already satisfied: llama-index-indices-managed-llama-cloud>=0.4.0 in c:\\users\\deepu\\anaconda3\\envs\\gpu-py310\\lib\\site-packages (from llama-index>=0.10.0->euriai) (0.7.7)\n",
      "Requirement already satisfied: llama-index-llms-openai<0.5,>=0.4.0 in c:\\users\\deepu\\anaconda3\\envs\\gpu-py310\\lib\\site-packages (from llama-index>=0.10.0->euriai) (0.4.6)\n",
      "Requirement already satisfied: llama-index-multi-modal-llms-openai<0.6,>=0.5.0 in c:\\users\\deepu\\anaconda3\\envs\\gpu-py310\\lib\\site-packages (from llama-index>=0.10.0->euriai) (0.5.1)\n",
      "Requirement already satisfied: llama-index-program-openai<0.4,>=0.3.0 in c:\\users\\deepu\\anaconda3\\envs\\gpu-py310\\lib\\site-packages (from llama-index>=0.10.0->euriai) (0.3.2)\n",
      "Requirement already satisfied: llama-index-question-gen-openai<0.4,>=0.3.0 in c:\\users\\deepu\\anaconda3\\envs\\gpu-py310\\lib\\site-packages (from llama-index>=0.10.0->euriai) (0.3.1)\n",
      "Requirement already satisfied: llama-index-readers-file<0.5,>=0.4.0 in c:\\users\\deepu\\anaconda3\\envs\\gpu-py310\\lib\\site-packages (from llama-index>=0.10.0->euriai) (0.4.9)\n",
      "Requirement already satisfied: llama-index-readers-llama-parse>=0.4.0 in c:\\users\\deepu\\anaconda3\\envs\\gpu-py310\\lib\\site-packages (from llama-index>=0.10.0->euriai) (0.4.0)\n",
      "Requirement already satisfied: nltk>3.8.1 in c:\\users\\deepu\\anaconda3\\envs\\gpu-py310\\lib\\site-packages (from llama-index>=0.10.0->euriai) (3.9.1)\n",
      "Requirement already satisfied: openai>=1.14.0 in c:\\users\\deepu\\anaconda3\\envs\\gpu-py310\\lib\\site-packages (from llama-index-agent-openai<0.5,>=0.4.0->llama-index>=0.10.0->euriai) (1.86.0)\n",
      "Requirement already satisfied: aiohttp<4,>=3.8.6 in c:\\users\\deepu\\anaconda3\\envs\\gpu-py310\\lib\\site-packages (from llama-index-core<0.13,>=0.12.42->llama-index>=0.10.0->euriai) (3.12.13)\n",
      "Requirement already satisfied: aiosqlite in c:\\users\\deepu\\anaconda3\\envs\\gpu-py310\\lib\\site-packages (from llama-index-core<0.13,>=0.12.42->llama-index>=0.10.0->euriai) (0.21.0)\n",
      "Requirement already satisfied: banks<3,>=2.0.0 in c:\\users\\deepu\\anaconda3\\envs\\gpu-py310\\lib\\site-packages (from llama-index-core<0.13,>=0.12.42->llama-index>=0.10.0->euriai) (2.1.2)\n",
      "Requirement already satisfied: dataclasses-json in c:\\users\\deepu\\anaconda3\\envs\\gpu-py310\\lib\\site-packages (from llama-index-core<0.13,>=0.12.42->llama-index>=0.10.0->euriai) (0.6.7)\n",
      "Requirement already satisfied: deprecated>=1.2.9.3 in c:\\users\\deepu\\anaconda3\\envs\\gpu-py310\\lib\\site-packages (from llama-index-core<0.13,>=0.12.42->llama-index>=0.10.0->euriai) (1.2.18)\n",
      "Requirement already satisfied: dirtyjson<2,>=1.0.8 in c:\\users\\deepu\\anaconda3\\envs\\gpu-py310\\lib\\site-packages (from llama-index-core<0.13,>=0.12.42->llama-index>=0.10.0->euriai) (1.0.8)\n",
      "Requirement already satisfied: filetype<2,>=1.2.0 in c:\\users\\deepu\\anaconda3\\envs\\gpu-py310\\lib\\site-packages (from llama-index-core<0.13,>=0.12.42->llama-index>=0.10.0->euriai) (1.2.0)\n",
      "Requirement already satisfied: fsspec>=2023.5.0 in c:\\users\\deepu\\anaconda3\\envs\\gpu-py310\\lib\\site-packages (from llama-index-core<0.13,>=0.12.42->llama-index>=0.10.0->euriai) (2025.3.2)\n",
      "Requirement already satisfied: httpx in c:\\users\\deepu\\appdata\\roaming\\python\\python310\\site-packages (from llama-index-core<0.13,>=0.12.42->llama-index>=0.10.0->euriai) (0.28.1)\n",
      "Requirement already satisfied: nest-asyncio<2,>=1.5.8 in c:\\users\\deepu\\appdata\\roaming\\python\\python310\\site-packages (from llama-index-core<0.13,>=0.12.42->llama-index>=0.10.0->euriai) (1.6.0)\n",
      "Requirement already satisfied: networkx>=3.0 in c:\\users\\deepu\\anaconda3\\envs\\gpu-py310\\lib\\site-packages (from llama-index-core<0.13,>=0.12.42->llama-index>=0.10.0->euriai) (3.4.2)\n",
      "Requirement already satisfied: pillow>=9.0.0 in c:\\users\\deepu\\anaconda3\\envs\\gpu-py310\\lib\\site-packages (from llama-index-core<0.13,>=0.12.42->llama-index>=0.10.0->euriai) (11.2.1)\n",
      "Requirement already satisfied: pydantic>=2.8.0 in c:\\users\\deepu\\anaconda3\\envs\\gpu-py310\\lib\\site-packages (from llama-index-core<0.13,>=0.12.42->llama-index>=0.10.0->euriai) (2.11.4)\n",
      "Requirement already satisfied: pyyaml>=6.0.1 in c:\\users\\deepu\\appdata\\roaming\\python\\python310\\site-packages (from llama-index-core<0.13,>=0.12.42->llama-index>=0.10.0->euriai) (6.0.2)\n",
      "Requirement already satisfied: sqlalchemy>=1.4.49 in c:\\users\\deepu\\anaconda3\\envs\\gpu-py310\\lib\\site-packages (from sqlalchemy[asyncio]>=1.4.49->llama-index-core<0.13,>=0.12.42->llama-index>=0.10.0->euriai) (2.0.41)\n",
      "Requirement already satisfied: tenacity!=8.4.0,<10.0.0,>=8.2.0 in c:\\users\\deepu\\anaconda3\\envs\\gpu-py310\\lib\\site-packages (from llama-index-core<0.13,>=0.12.42->llama-index>=0.10.0->euriai) (9.1.2)\n",
      "Requirement already satisfied: tiktoken>=0.7.0 in c:\\users\\deepu\\anaconda3\\envs\\gpu-py310\\lib\\site-packages (from llama-index-core<0.13,>=0.12.42->llama-index>=0.10.0->euriai) (0.9.0)\n",
      "Requirement already satisfied: tqdm<5,>=4.66.1 in c:\\users\\deepu\\anaconda3\\envs\\gpu-py310\\lib\\site-packages (from llama-index-core<0.13,>=0.12.42->llama-index>=0.10.0->euriai) (4.67.1)\n",
      "Requirement already satisfied: typing-extensions>=4.5.0 in c:\\users\\deepu\\anaconda3\\envs\\gpu-py310\\lib\\site-packages (from llama-index-core<0.13,>=0.12.42->llama-index>=0.10.0->euriai) (4.13.2)\n",
      "Requirement already satisfied: typing-inspect>=0.8.0 in c:\\users\\deepu\\anaconda3\\envs\\gpu-py310\\lib\\site-packages (from llama-index-core<0.13,>=0.12.42->llama-index>=0.10.0->euriai) (0.9.0)\n",
      "Requirement already satisfied: wrapt in c:\\users\\deepu\\anaconda3\\envs\\gpu-py310\\lib\\site-packages (from llama-index-core<0.13,>=0.12.42->llama-index>=0.10.0->euriai) (1.17.2)\n",
      "Requirement already satisfied: aiohappyeyeballs>=2.5.0 in c:\\users\\deepu\\anaconda3\\envs\\gpu-py310\\lib\\site-packages (from aiohttp<4,>=3.8.6->llama-index-core<0.13,>=0.12.42->llama-index>=0.10.0->euriai) (2.6.1)\n",
      "Requirement already satisfied: aiosignal>=1.1.2 in c:\\users\\deepu\\anaconda3\\envs\\gpu-py310\\lib\\site-packages (from aiohttp<4,>=3.8.6->llama-index-core<0.13,>=0.12.42->llama-index>=0.10.0->euriai) (1.3.2)\n",
      "Requirement already satisfied: async-timeout<6.0,>=4.0 in c:\\users\\deepu\\anaconda3\\envs\\gpu-py310\\lib\\site-packages (from aiohttp<4,>=3.8.6->llama-index-core<0.13,>=0.12.42->llama-index>=0.10.0->euriai) (4.0.3)\n",
      "Requirement already satisfied: attrs>=17.3.0 in c:\\users\\deepu\\appdata\\roaming\\python\\python310\\site-packages (from aiohttp<4,>=3.8.6->llama-index-core<0.13,>=0.12.42->llama-index>=0.10.0->euriai) (25.1.0)\n",
      "Requirement already satisfied: frozenlist>=1.1.1 in c:\\users\\deepu\\anaconda3\\envs\\gpu-py310\\lib\\site-packages (from aiohttp<4,>=3.8.6->llama-index-core<0.13,>=0.12.42->llama-index>=0.10.0->euriai) (1.7.0)\n",
      "Requirement already satisfied: multidict<7.0,>=4.5 in c:\\users\\deepu\\anaconda3\\envs\\gpu-py310\\lib\\site-packages (from aiohttp<4,>=3.8.6->llama-index-core<0.13,>=0.12.42->llama-index>=0.10.0->euriai) (6.4.4)\n",
      "Requirement already satisfied: propcache>=0.2.0 in c:\\users\\deepu\\anaconda3\\envs\\gpu-py310\\lib\\site-packages (from aiohttp<4,>=3.8.6->llama-index-core<0.13,>=0.12.42->llama-index>=0.10.0->euriai) (0.3.2)\n",
      "Requirement already satisfied: yarl<2.0,>=1.17.0 in c:\\users\\deepu\\anaconda3\\envs\\gpu-py310\\lib\\site-packages (from aiohttp<4,>=3.8.6->llama-index-core<0.13,>=0.12.42->llama-index>=0.10.0->euriai) (1.20.1)\n",
      "Requirement already satisfied: griffe in c:\\users\\deepu\\anaconda3\\envs\\gpu-py310\\lib\\site-packages (from banks<3,>=2.0.0->llama-index-core<0.13,>=0.12.42->llama-index>=0.10.0->euriai) (1.7.3)\n",
      "Requirement already satisfied: jinja2 in c:\\users\\deepu\\appdata\\roaming\\python\\python310\\site-packages (from banks<3,>=2.0.0->llama-index-core<0.13,>=0.12.42->llama-index>=0.10.0->euriai) (3.1.5)\n",
      "Requirement already satisfied: platformdirs in c:\\users\\deepu\\anaconda3\\envs\\gpu-py310\\lib\\site-packages (from banks<3,>=2.0.0->llama-index-core<0.13,>=0.12.42->llama-index>=0.10.0->euriai) (4.3.8)\n",
      "Requirement already satisfied: beautifulsoup4<5,>=4.12.3 in c:\\users\\deepu\\appdata\\roaming\\python\\python310\\site-packages (from llama-index-readers-file<0.5,>=0.4.0->llama-index>=0.10.0->euriai) (4.13.3)\n",
      "Requirement already satisfied: pandas<2.3.0 in c:\\users\\deepu\\anaconda3\\envs\\gpu-py310\\lib\\site-packages (from llama-index-readers-file<0.5,>=0.4.0->llama-index>=0.10.0->euriai) (2.2.3)\n",
      "Requirement already satisfied: pypdf<6,>=5.1.0 in c:\\users\\deepu\\anaconda3\\envs\\gpu-py310\\lib\\site-packages (from llama-index-readers-file<0.5,>=0.4.0->llama-index>=0.10.0->euriai) (5.6.0)\n",
      "Requirement already satisfied: striprtf<0.0.27,>=0.0.26 in c:\\users\\deepu\\anaconda3\\envs\\gpu-py310\\lib\\site-packages (from llama-index-readers-file<0.5,>=0.4.0->llama-index>=0.10.0->euriai) (0.0.26)\n",
      "Requirement already satisfied: soupsieve>1.2 in c:\\users\\deepu\\appdata\\roaming\\python\\python310\\site-packages (from beautifulsoup4<5,>=4.12.3->llama-index-readers-file<0.5,>=0.4.0->llama-index>=0.10.0->euriai) (2.6)\n",
      "Requirement already satisfied: anyio<5,>=3.5.0 in c:\\users\\deepu\\appdata\\roaming\\python\\python310\\site-packages (from openai>=1.14.0->llama-index-agent-openai<0.5,>=0.4.0->llama-index>=0.10.0->euriai) (4.8.0)\n",
      "Requirement already satisfied: distro<2,>=1.7.0 in c:\\users\\deepu\\anaconda3\\envs\\gpu-py310\\lib\\site-packages (from openai>=1.14.0->llama-index-agent-openai<0.5,>=0.4.0->llama-index>=0.10.0->euriai) (1.9.0)\n",
      "Requirement already satisfied: jiter<1,>=0.4.0 in c:\\users\\deepu\\anaconda3\\envs\\gpu-py310\\lib\\site-packages (from openai>=1.14.0->llama-index-agent-openai<0.5,>=0.4.0->llama-index>=0.10.0->euriai) (0.10.0)\n",
      "Requirement already satisfied: sniffio in c:\\users\\deepu\\appdata\\roaming\\python\\python310\\site-packages (from openai>=1.14.0->llama-index-agent-openai<0.5,>=0.4.0->llama-index>=0.10.0->euriai) (1.3.1)\n",
      "Requirement already satisfied: exceptiongroup>=1.0.2 in c:\\users\\deepu\\appdata\\roaming\\python\\python310\\site-packages (from anyio<5,>=3.5.0->openai>=1.14.0->llama-index-agent-openai<0.5,>=0.4.0->llama-index>=0.10.0->euriai) (1.2.2)\n",
      "Requirement already satisfied: idna>=2.8 in c:\\users\\deepu\\appdata\\roaming\\python\\python310\\site-packages (from anyio<5,>=3.5.0->openai>=1.14.0->llama-index-agent-openai<0.5,>=0.4.0->llama-index>=0.10.0->euriai) (3.10)\n",
      "Requirement already satisfied: certifi in c:\\users\\deepu\\appdata\\roaming\\python\\python310\\site-packages (from httpx->llama-index-core<0.13,>=0.12.42->llama-index>=0.10.0->euriai) (2025.1.31)\n",
      "Requirement already satisfied: httpcore==1.* in c:\\users\\deepu\\appdata\\roaming\\python\\python310\\site-packages (from httpx->llama-index-core<0.13,>=0.12.42->llama-index>=0.10.0->euriai) (1.0.7)\n",
      "Requirement already satisfied: h11<0.15,>=0.13 in c:\\users\\deepu\\appdata\\roaming\\python\\python310\\site-packages (from httpcore==1.*->httpx->llama-index-core<0.13,>=0.12.42->llama-index>=0.10.0->euriai) (0.14.0)\n",
      "Requirement already satisfied: python-dateutil>=2.8.2 in c:\\users\\deepu\\appdata\\roaming\\python\\python310\\site-packages (from pandas<2.3.0->llama-index-readers-file<0.5,>=0.4.0->llama-index>=0.10.0->euriai) (2.9.0.post0)\n",
      "Requirement already satisfied: pytz>=2020.1 in c:\\users\\deepu\\anaconda3\\envs\\gpu-py310\\lib\\site-packages (from pandas<2.3.0->llama-index-readers-file<0.5,>=0.4.0->llama-index>=0.10.0->euriai) (2025.2)\n",
      "Requirement already satisfied: tzdata>=2022.7 in c:\\users\\deepu\\anaconda3\\envs\\gpu-py310\\lib\\site-packages (from pandas<2.3.0->llama-index-readers-file<0.5,>=0.4.0->llama-index>=0.10.0->euriai) (2025.2)\n",
      "Requirement already satisfied: annotated-types>=0.6.0 in c:\\users\\deepu\\anaconda3\\envs\\gpu-py310\\lib\\site-packages (from pydantic>=2.8.0->llama-index-core<0.13,>=0.12.42->llama-index>=0.10.0->euriai) (0.7.0)\n",
      "Requirement already satisfied: pydantic-core==2.33.2 in c:\\users\\deepu\\anaconda3\\envs\\gpu-py310\\lib\\site-packages (from pydantic>=2.8.0->llama-index-core<0.13,>=0.12.42->llama-index>=0.10.0->euriai) (2.33.2)\n",
      "Requirement already satisfied: typing-inspection>=0.4.0 in c:\\users\\deepu\\anaconda3\\envs\\gpu-py310\\lib\\site-packages (from pydantic>=2.8.0->llama-index-core<0.13,>=0.12.42->llama-index>=0.10.0->euriai) (0.4.0)\n",
      "Requirement already satisfied: colorama in c:\\users\\deepu\\appdata\\roaming\\python\\python310\\site-packages (from tqdm<5,>=4.66.1->llama-index-core<0.13,>=0.12.42->llama-index>=0.10.0->euriai) (0.4.6)\n",
      "Requirement already satisfied: llama-cloud==0.1.26 in c:\\users\\deepu\\anaconda3\\envs\\gpu-py310\\lib\\site-packages (from llama-index-indices-managed-llama-cloud>=0.4.0->llama-index>=0.10.0->euriai) (0.1.26)\n",
      "Requirement already satisfied: llama-parse>=0.5.0 in c:\\users\\deepu\\anaconda3\\envs\\gpu-py310\\lib\\site-packages (from llama-index-readers-llama-parse>=0.4.0->llama-index>=0.10.0->euriai) (0.6.32)\n",
      "Requirement already satisfied: llama-cloud-services>=0.6.32 in c:\\users\\deepu\\anaconda3\\envs\\gpu-py310\\lib\\site-packages (from llama-parse>=0.5.0->llama-index-readers-llama-parse>=0.4.0->llama-index>=0.10.0->euriai) (0.6.32)\n",
      "Requirement already satisfied: click<9.0.0,>=8.1.7 in c:\\users\\deepu\\anaconda3\\envs\\gpu-py310\\lib\\site-packages (from llama-cloud-services>=0.6.32->llama-parse>=0.5.0->llama-index-readers-llama-parse>=0.4.0->llama-index>=0.10.0->euriai) (8.1.8)\n",
      "Requirement already satisfied: python-dotenv<2.0.0,>=1.0.1 in c:\\users\\deepu\\anaconda3\\envs\\gpu-py310\\lib\\site-packages (from llama-cloud-services>=0.6.32->llama-parse>=0.5.0->llama-index-readers-llama-parse>=0.4.0->llama-index>=0.10.0->euriai) (1.1.0)\n",
      "Requirement already satisfied: joblib in c:\\users\\deepu\\anaconda3\\envs\\gpu-py310\\lib\\site-packages (from nltk>3.8.1->llama-index>=0.10.0->euriai) (1.5.0)\n",
      "Requirement already satisfied: regex>=2021.8.3 in c:\\users\\deepu\\anaconda3\\envs\\gpu-py310\\lib\\site-packages (from nltk>3.8.1->llama-index>=0.10.0->euriai) (2024.11.6)\n",
      "Requirement already satisfied: six>=1.5 in c:\\users\\deepu\\appdata\\roaming\\python\\python310\\site-packages (from python-dateutil>=2.8.2->pandas<2.3.0->llama-index-readers-file<0.5,>=0.4.0->llama-index>=0.10.0->euriai) (1.17.0)\n",
      "Requirement already satisfied: charset-normalizer<4,>=2 in c:\\users\\deepu\\appdata\\roaming\\python\\python310\\site-packages (from requests->euriai) (3.4.1)\n",
      "Requirement already satisfied: urllib3<3,>=1.21.1 in c:\\users\\deepu\\appdata\\roaming\\python\\python310\\site-packages (from requests->euriai) (2.3.0)\n",
      "Requirement already satisfied: greenlet>=1 in c:\\users\\deepu\\anaconda3\\envs\\gpu-py310\\lib\\site-packages (from sqlalchemy>=1.4.49->sqlalchemy[asyncio]>=1.4.49->llama-index-core<0.13,>=0.12.42->llama-index>=0.10.0->euriai) (3.2.3)\n",
      "Requirement already satisfied: mypy-extensions>=0.3.0 in c:\\users\\deepu\\anaconda3\\envs\\gpu-py310\\lib\\site-packages (from typing-inspect>=0.8.0->llama-index-core<0.13,>=0.12.42->llama-index>=0.10.0->euriai) (1.1.0)\n",
      "Requirement already satisfied: marshmallow<4.0.0,>=3.18.0 in c:\\users\\deepu\\anaconda3\\envs\\gpu-py310\\lib\\site-packages (from dataclasses-json->llama-index-core<0.13,>=0.12.42->llama-index>=0.10.0->euriai) (3.26.1)\n",
      "Requirement already satisfied: packaging>=17.0 in c:\\users\\deepu\\appdata\\roaming\\python\\python310\\site-packages (from marshmallow<4.0.0,>=3.18.0->dataclasses-json->llama-index-core<0.13,>=0.12.42->llama-index>=0.10.0->euriai) (24.2)\n",
      "Requirement already satisfied: MarkupSafe>=2.0 in c:\\users\\deepu\\appdata\\roaming\\python\\python310\\site-packages (from jinja2->banks<3,>=2.0.0->llama-index-core<0.13,>=0.12.42->llama-index>=0.10.0->euriai) (3.0.2)\n",
      "Requirement already satisfied: langsmith<0.4,>=0.3.45 in c:\\users\\deepu\\anaconda3\\envs\\gpu-py310\\lib\\site-packages (from langchain-core->euriai) (0.3.45)\n",
      "Requirement already satisfied: jsonpatch<2.0,>=1.33 in c:\\users\\deepu\\anaconda3\\envs\\gpu-py310\\lib\\site-packages (from langchain-core->euriai) (1.33)\n",
      "Requirement already satisfied: jsonpointer>=1.9 in c:\\users\\deepu\\appdata\\roaming\\python\\python310\\site-packages (from jsonpatch<2.0,>=1.33->langchain-core->euriai) (3.0.0)\n",
      "Requirement already satisfied: orjson<4.0.0,>=3.9.14 in c:\\users\\deepu\\anaconda3\\envs\\gpu-py310\\lib\\site-packages (from langsmith<0.4,>=0.3.45->langchain-core->euriai) (3.10.18)\n",
      "Requirement already satisfied: requests-toolbelt<2.0.0,>=1.0.0 in c:\\users\\deepu\\anaconda3\\envs\\gpu-py310\\lib\\site-packages (from langsmith<0.4,>=0.3.45->langchain-core->euriai) (1.0.0)\n",
      "Requirement already satisfied: zstandard<0.24.0,>=0.23.0 in c:\\users\\deepu\\anaconda3\\envs\\gpu-py310\\lib\\site-packages (from langsmith<0.4,>=0.3.45->langchain-core->euriai) (0.23.0)\n"
     ]
    }
   ],
   "source": [
    "! pip install langchain faiss-cpu requests beautifulsoup4\n",
    "! pip install euriai"
   ]
  },
  {
   "cell_type": "code",
   "execution_count": 203,
   "id": "15f27b31",
   "metadata": {},
   "outputs": [
    {
     "data": {
      "text/plain": [
       "True"
      ]
     },
     "execution_count": 203,
     "metadata": {},
     "output_type": "execute_result"
    }
   ],
   "source": [
    "from langchain.embeddings.base import Embeddings\n",
    "from langchain.llms.base import LLM\n",
    "from typing import List, Optional, Dict, Any\n",
    "import requests\n",
    "import numpy as np\n",
    "import faiss\n",
    "import os\n",
    "import json\n",
    "\n",
    "# Fix: Correct way to import and load environment variables\n",
    "from dotenv import load_dotenv\n",
    "load_dotenv()  # This loads environment variables from a .env file\n"
   ]
  },
  {
   "cell_type": "code",
   "execution_count": 204,
   "id": "dd79f25f",
   "metadata": {},
   "outputs": [],
   "source": [
    "# Using requests library for embeddings\n",
    "import requests\n",
    "import numpy as np\n",
    "\n",
    "def generate_embeddings(text: str):\n",
    "    url = \"https://api.euron.one/api/v1/euri/alpha/embeddings\"\n",
    "    headers = {\n",
    "        \"Content-Type\": \"application/json\",\n",
    "        \"Authorization\": f\"Bearer {os.getenv('EURI_API_KEY')}\"  # Ensure you set this environment variable\"\n",
    "    }\n",
    "    payload = {\n",
    "        \"input\": text,\n",
    "        \"model\": \"text-embedding-3-small\"\n",
    "    }\n",
    "\n",
    "    response = requests.post(url, headers=headers, json=payload)\n",
    "    data = response.json()\n",
    "    \n",
    "    # Convert to numpy array for vector operations\n",
    "    embedding = np.array(data['data'][0]['embedding'])\n",
    "    \n",
    "    \n",
    "    return embedding"
   ]
  },
  {
   "cell_type": "code",
   "execution_count": 205,
   "id": "02cdfd9c",
   "metadata": {},
   "outputs": [],
   "source": [
    "from euriai import EuriaiClient\n",
    "\n",
    "def generate_response(prompt):\n",
    "    client = EuriaiClient(\n",
    "        api_key=os.getenv('EURI_API_KEY'),  # Ensure you set this environment variable\n",
    "        model=\"gpt-4.1-nano\"\n",
    "    )\n",
    "\n",
    "    response = client.generate_completion(\n",
    "        prompt=prompt,\n",
    "        temperature=0.7,\n",
    "        max_tokens=300\n",
    "    )\n",
    "\n",
    "    print(response)\n",
    "    return response['choices'][0][\"message\"][\"content\"]"
   ]
  },
  {
   "cell_type": "code",
   "execution_count": 206,
   "id": "3485cc67",
   "metadata": {},
   "outputs": [
    {
     "name": "stdout",
     "output_type": "stream",
     "text": [
      "Requirement already satisfied: langchain-community in c:\\users\\deepu\\anaconda3\\envs\\gpu-py310\\lib\\site-packages (0.3.25)\n",
      "Requirement already satisfied: langchain-core<1.0.0,>=0.3.65 in c:\\users\\deepu\\anaconda3\\envs\\gpu-py310\\lib\\site-packages (from langchain-community) (0.3.65)\n",
      "Requirement already satisfied: langchain<1.0.0,>=0.3.25 in c:\\users\\deepu\\anaconda3\\envs\\gpu-py310\\lib\\site-packages (from langchain-community) (0.3.25)\n",
      "Requirement already satisfied: SQLAlchemy<3,>=1.4 in c:\\users\\deepu\\anaconda3\\envs\\gpu-py310\\lib\\site-packages (from langchain-community) (2.0.41)\n",
      "Requirement already satisfied: requests<3,>=2 in c:\\users\\deepu\\appdata\\roaming\\python\\python310\\site-packages (from langchain-community) (2.32.3)\n",
      "Requirement already satisfied: PyYAML>=5.3 in c:\\users\\deepu\\appdata\\roaming\\python\\python310\\site-packages (from langchain-community) (6.0.2)\n",
      "Requirement already satisfied: aiohttp<4.0.0,>=3.8.3 in c:\\users\\deepu\\anaconda3\\envs\\gpu-py310\\lib\\site-packages (from langchain-community) (3.12.13)\n",
      "Requirement already satisfied: tenacity!=8.4.0,<10,>=8.1.0 in c:\\users\\deepu\\anaconda3\\envs\\gpu-py310\\lib\\site-packages (from langchain-community) (9.1.2)\n",
      "Requirement already satisfied: dataclasses-json<0.7,>=0.5.7 in c:\\users\\deepu\\anaconda3\\envs\\gpu-py310\\lib\\site-packages (from langchain-community) (0.6.7)\n",
      "Requirement already satisfied: pydantic-settings<3.0.0,>=2.4.0 in c:\\users\\deepu\\anaconda3\\envs\\gpu-py310\\lib\\site-packages (from langchain-community) (2.9.1)\n",
      "Requirement already satisfied: langsmith<0.4,>=0.1.125 in c:\\users\\deepu\\anaconda3\\envs\\gpu-py310\\lib\\site-packages (from langchain-community) (0.3.45)\n",
      "Requirement already satisfied: httpx-sse<1.0.0,>=0.4.0 in c:\\users\\deepu\\anaconda3\\envs\\gpu-py310\\lib\\site-packages (from langchain-community) (0.4.0)\n",
      "Requirement already satisfied: numpy>=1.26.2 in c:\\users\\deepu\\anaconda3\\envs\\gpu-py310\\lib\\site-packages (from langchain-community) (2.1.3)\n",
      "Requirement already satisfied: aiohappyeyeballs>=2.5.0 in c:\\users\\deepu\\anaconda3\\envs\\gpu-py310\\lib\\site-packages (from aiohttp<4.0.0,>=3.8.3->langchain-community) (2.6.1)\n",
      "Requirement already satisfied: aiosignal>=1.1.2 in c:\\users\\deepu\\anaconda3\\envs\\gpu-py310\\lib\\site-packages (from aiohttp<4.0.0,>=3.8.3->langchain-community) (1.3.2)\n",
      "Requirement already satisfied: async-timeout<6.0,>=4.0 in c:\\users\\deepu\\anaconda3\\envs\\gpu-py310\\lib\\site-packages (from aiohttp<4.0.0,>=3.8.3->langchain-community) (4.0.3)\n",
      "Requirement already satisfied: attrs>=17.3.0 in c:\\users\\deepu\\appdata\\roaming\\python\\python310\\site-packages (from aiohttp<4.0.0,>=3.8.3->langchain-community) (25.1.0)\n",
      "Requirement already satisfied: frozenlist>=1.1.1 in c:\\users\\deepu\\anaconda3\\envs\\gpu-py310\\lib\\site-packages (from aiohttp<4.0.0,>=3.8.3->langchain-community) (1.7.0)\n",
      "Requirement already satisfied: multidict<7.0,>=4.5 in c:\\users\\deepu\\anaconda3\\envs\\gpu-py310\\lib\\site-packages (from aiohttp<4.0.0,>=3.8.3->langchain-community) (6.4.4)\n",
      "Requirement already satisfied: propcache>=0.2.0 in c:\\users\\deepu\\anaconda3\\envs\\gpu-py310\\lib\\site-packages (from aiohttp<4.0.0,>=3.8.3->langchain-community) (0.3.2)\n",
      "Requirement already satisfied: yarl<2.0,>=1.17.0 in c:\\users\\deepu\\anaconda3\\envs\\gpu-py310\\lib\\site-packages (from aiohttp<4.0.0,>=3.8.3->langchain-community) (1.20.1)\n",
      "Requirement already satisfied: marshmallow<4.0.0,>=3.18.0 in c:\\users\\deepu\\anaconda3\\envs\\gpu-py310\\lib\\site-packages (from dataclasses-json<0.7,>=0.5.7->langchain-community) (3.26.1)\n",
      "Requirement already satisfied: typing-inspect<1,>=0.4.0 in c:\\users\\deepu\\anaconda3\\envs\\gpu-py310\\lib\\site-packages (from dataclasses-json<0.7,>=0.5.7->langchain-community) (0.9.0)\n",
      "Requirement already satisfied: langchain-text-splitters<1.0.0,>=0.3.8 in c:\\users\\deepu\\anaconda3\\envs\\gpu-py310\\lib\\site-packages (from langchain<1.0.0,>=0.3.25->langchain-community) (0.3.8)\n",
      "Requirement already satisfied: pydantic<3.0.0,>=2.7.4 in c:\\users\\deepu\\anaconda3\\envs\\gpu-py310\\lib\\site-packages (from langchain<1.0.0,>=0.3.25->langchain-community) (2.11.4)\n",
      "Requirement already satisfied: jsonpatch<2.0,>=1.33 in c:\\users\\deepu\\anaconda3\\envs\\gpu-py310\\lib\\site-packages (from langchain-core<1.0.0,>=0.3.65->langchain-community) (1.33)\n",
      "Requirement already satisfied: packaging<25,>=23.2 in c:\\users\\deepu\\appdata\\roaming\\python\\python310\\site-packages (from langchain-core<1.0.0,>=0.3.65->langchain-community) (24.2)\n",
      "Requirement already satisfied: typing-extensions>=4.7 in c:\\users\\deepu\\anaconda3\\envs\\gpu-py310\\lib\\site-packages (from langchain-core<1.0.0,>=0.3.65->langchain-community) (4.13.2)\n",
      "Requirement already satisfied: jsonpointer>=1.9 in c:\\users\\deepu\\appdata\\roaming\\python\\python310\\site-packages (from jsonpatch<2.0,>=1.33->langchain-core<1.0.0,>=0.3.65->langchain-community) (3.0.0)\n",
      "Requirement already satisfied: httpx<1,>=0.23.0 in c:\\users\\deepu\\appdata\\roaming\\python\\python310\\site-packages (from langsmith<0.4,>=0.1.125->langchain-community) (0.28.1)\n",
      "Requirement already satisfied: orjson<4.0.0,>=3.9.14 in c:\\users\\deepu\\anaconda3\\envs\\gpu-py310\\lib\\site-packages (from langsmith<0.4,>=0.1.125->langchain-community) (3.10.18)\n",
      "Requirement already satisfied: requests-toolbelt<2.0.0,>=1.0.0 in c:\\users\\deepu\\anaconda3\\envs\\gpu-py310\\lib\\site-packages (from langsmith<0.4,>=0.1.125->langchain-community) (1.0.0)\n",
      "Requirement already satisfied: zstandard<0.24.0,>=0.23.0 in c:\\users\\deepu\\anaconda3\\envs\\gpu-py310\\lib\\site-packages (from langsmith<0.4,>=0.1.125->langchain-community) (0.23.0)\n",
      "Requirement already satisfied: anyio in c:\\users\\deepu\\appdata\\roaming\\python\\python310\\site-packages (from httpx<1,>=0.23.0->langsmith<0.4,>=0.1.125->langchain-community) (4.8.0)\n",
      "Requirement already satisfied: certifi in c:\\users\\deepu\\appdata\\roaming\\python\\python310\\site-packages (from httpx<1,>=0.23.0->langsmith<0.4,>=0.1.125->langchain-community) (2025.1.31)\n",
      "Requirement already satisfied: httpcore==1.* in c:\\users\\deepu\\appdata\\roaming\\python\\python310\\site-packages (from httpx<1,>=0.23.0->langsmith<0.4,>=0.1.125->langchain-community) (1.0.7)\n",
      "Requirement already satisfied: idna in c:\\users\\deepu\\appdata\\roaming\\python\\python310\\site-packages (from httpx<1,>=0.23.0->langsmith<0.4,>=0.1.125->langchain-community) (3.10)\n",
      "Requirement already satisfied: h11<0.15,>=0.13 in c:\\users\\deepu\\appdata\\roaming\\python\\python310\\site-packages (from httpcore==1.*->httpx<1,>=0.23.0->langsmith<0.4,>=0.1.125->langchain-community) (0.14.0)\n",
      "Requirement already satisfied: annotated-types>=0.6.0 in c:\\users\\deepu\\anaconda3\\envs\\gpu-py310\\lib\\site-packages (from pydantic<3.0.0,>=2.7.4->langchain<1.0.0,>=0.3.25->langchain-community) (0.7.0)\n",
      "Requirement already satisfied: pydantic-core==2.33.2 in c:\\users\\deepu\\anaconda3\\envs\\gpu-py310\\lib\\site-packages (from pydantic<3.0.0,>=2.7.4->langchain<1.0.0,>=0.3.25->langchain-community) (2.33.2)\n",
      "Requirement already satisfied: typing-inspection>=0.4.0 in c:\\users\\deepu\\anaconda3\\envs\\gpu-py310\\lib\\site-packages (from pydantic<3.0.0,>=2.7.4->langchain<1.0.0,>=0.3.25->langchain-community) (0.4.0)\n",
      "Requirement already satisfied: python-dotenv>=0.21.0 in c:\\users\\deepu\\anaconda3\\envs\\gpu-py310\\lib\\site-packages (from pydantic-settings<3.0.0,>=2.4.0->langchain-community) (1.1.0)\n",
      "Requirement already satisfied: charset-normalizer<4,>=2 in c:\\users\\deepu\\appdata\\roaming\\python\\python310\\site-packages (from requests<3,>=2->langchain-community) (3.4.1)\n",
      "Requirement already satisfied: urllib3<3,>=1.21.1 in c:\\users\\deepu\\appdata\\roaming\\python\\python310\\site-packages (from requests<3,>=2->langchain-community) (2.3.0)\n",
      "Requirement already satisfied: greenlet>=1 in c:\\users\\deepu\\anaconda3\\envs\\gpu-py310\\lib\\site-packages (from SQLAlchemy<3,>=1.4->langchain-community) (3.2.3)\n",
      "Requirement already satisfied: mypy-extensions>=0.3.0 in c:\\users\\deepu\\anaconda3\\envs\\gpu-py310\\lib\\site-packages (from typing-inspect<1,>=0.4.0->dataclasses-json<0.7,>=0.5.7->langchain-community) (1.1.0)\n",
      "Requirement already satisfied: exceptiongroup>=1.0.2 in c:\\users\\deepu\\appdata\\roaming\\python\\python310\\site-packages (from anyio->httpx<1,>=0.23.0->langsmith<0.4,>=0.1.125->langchain-community) (1.2.2)\n",
      "Requirement already satisfied: sniffio>=1.1 in c:\\users\\deepu\\appdata\\roaming\\python\\python310\\site-packages (from anyio->httpx<1,>=0.23.0->langsmith<0.4,>=0.1.125->langchain-community) (1.3.1)\n"
     ]
    }
   ],
   "source": [
    "! pip install langchain-community "
   ]
  },
  {
   "cell_type": "code",
   "execution_count": 207,
   "id": "181ff1c5",
   "metadata": {},
   "outputs": [
    {
     "data": {
      "text/plain": [
       "[Document(metadata={'source': 'knowledgebase.txt'}, page_content=\"\\nMaking an Impact\\nHelping Millions of Students Succeed\\nSudhanshu's commitment to affordable education wasn't just a business strategy—it was his life's mission. Over the years, iNeuron has helped over 1.5 million students from 34+ countries, providing them with the skills they need to succeed in today's competitive job market. Many of these students, like Sudhanshu himself, came from disadvantaged backgrounds. They saw iNeuron as a lifeline—an opportunity to rise above their circumstances.\\n\\nIn 2022, iNeuron was acquired by PhysicsWallah in a deal worth ₹250 crore. While this acquisition was a significant milestone, Sudhanshu remained focused on his mission. Even after the acquisition, iNeuron continued to offer some of the most affordable and accessible tech courses in the world.\\n\\nThe Entrepreneur and Teacher: Sudhanshu's Dual Legacy\\nSudhanshu's journey isn't just one of entrepreneurial success; it's also a story of dedication to teaching. Throughout his career, he has remained a passionate educator, constantly looking for ways to empower others through knowledge. Whether teaching courses in Big Data, Data Science, or programming, Sudhanshu has always sought to make complex subjects accessible to learners at all levels.\\n\\nHis commitment to affordable education has earned him the respect and admiration of countless students. Many credit Sudhanshu with changing their lives, helping them secure jobs, improve their skills, and break free from the limitations of their backgrounds.\\n\\nThe Journey\\n\\nEarly Life and the Power of Education\\n\\nRising Through the Ranks of the Tech World\\n\\nThe Birth of iNeuron: Democratizing Education\\n\\nThe Foundation of Euron: Expanding the Mission\\nEarly Life and the Power of Education\\nEarly Life and the Power of Education\\nSudhanshu Kumar's life is a story of triumph over adversity, driven by the belief in the transformative power of education. Born in Jamshedpur, Jharkhand, India, to a family of very modest means, Sudhanshu's early years were marked by financial hardship. His surroundings offered little opportunity, and resources were limited, yet he understood from a young age that education could be his ticket out of poverty.\\n\\nWhile many would have been daunted by the lack of support and opportunity, Sudhanshu was relentless in his pursuit of knowledge. He knew that education had the power to change lives, and he was determined to leverage it to create a better future for himself and his family. Despite the numerous challenges along the way, Sudhanshu excelled academically, eventually earning a degree in Computer Science and Engineering (CSE).\\n\\nAfter completing his education, Sudhanshu began his professional journey in the tech industry, working with prestigious companies like Wipro, Deloitte, Verizon Labs, and Ernst & Young. During this time, he gained expertise in various technologies and frameworks, including SAP WebDynpro, Fiori UI5 HANA, Java, Big Data, Data Analytics, and more. He became a well-rounded technologist, well-respected in his field.\\n\\nDespite his growing success, Sudhanshu never forgot his roots. He knew that there were many others who, like him, came from humble backgrounds and were looking for an opportunity to change their lives through education. It was during this time that Sudhanshu realized a harsh truth: quality education was often inaccessible to those who needed it the most. The high cost of education barred millions of people from pursuing their dreams, especially in tech fields that required specialized skills.\\nFueled by his passion for making education accessible, Sudhanshu decided to take action. In 2019, he founded iNeuron Intelligence Private Limited, an edtech platform that would make tech upskilling affordable and accessible for everyone. His mission was clear: to provide high-quality courses at a price so low that even those from the most disadvantaged backgrounds could afford to learn.\\n\\niNeuron was designed to be more than just an online learning platform. It offered a comprehensive bundle of resources, including courses, books, hands-on projects, and live classes, making sure that learners could gain real-world, applicable skills. Most importantly, iNeuron was priced to ensure no student would be left behind due to financial constraints.\\n\\nThe company quickly gained traction, thanks to Sudhanshu's focus on affordability and quality. In 2021, iNeuron raised $3 million in funding from S. Chand, a leading education publisher. This allowed iNeuron to expand its offerings and reach a larger audience.\\n\\nBuilding on the success of iNeuron, Sudhanshu is now leading Euron, a unified platform for tech upskilling. Euron is designed for enterprises, schools, colleges, government organizations, and individuals looking to improve their tech skills. The platform provides a comprehensive bundle of resources, including courses, books, live classes, and projects. Euron's unique offering is its ability to provide licenses at scale—organizations can subscribe to provide their teams with unlimited access to learning materials for just 1600 INR per year per license.\\n\\nFor individuals, Euron Plus offers a similar plan, priced at 2900 INR per year, giving learners access to all of Euron's content, along with 24/7 support through Euron Assist. The idea is simple: anyone, anywhere, should have the opportunity to upskill without financial barriers.\\n\\nThe Euron Motto: Education for All, Without Limits\\n\\nAt the heart of Euron's philosophy is a single, powerful idea: Education for All, Without Limits. Sudhanshu believes that every person deserves the chance to learn, grow, and succeed, regardless of their financial situation or background. This belief is what drives Euron's mission to make tech education not just affordable but also accessible to anyone, anywhere in the world.\\n\\nHome >\\n\\nGenerative AI\\nGenerative AI with Cloud\\nGenerative AI with Cloud is a practical course that combines generative AI techniques with cloud platforms like AWS, Azure, and GCP. Learn to deploy and scale models, integrate APIs, manage storage, and build intelligent applications using tools like Vertex AI, Bedrock, and OpenAI. Ideal for real-world, cloud-powered AI solutions.\\n\\n🌐\\nEnglish\\nGenerative AI with Cloud\\nThis course is included in plans\\n\\n📚\\nContinue Learning\\nWhat you will get\\ntick-svg\\nCertificate of Completion\\n\\ntick-svg\\nWhatsApp Group Access\\n\\ntick-svg\\nEURI AI Tool Access\\n\\ntick-svg\\nResume AI Tool\\n\\ntick-svg\\nJob Portal Access\\n\\ntick-svg\\nAvni – AI Interview Coach\\n\\ntick-svg\\nNo Prerequisites Required\\n\\ntick-svg\\nQuiz in Every Module\\n\\ntick-svg\\nChallenges in Every Module\\n\\ntick-svg\\nCareer-Ready Portfolio\\n\\ntick-svg\\nResources in all Module\\n\\ntick-svg\\nOne module release every Monday\\n\\nCourse content\\n12 sections • 100 Subtopics\\n\\nCollapse all sections\\n\\nIntroduction to Generative AI in the Cloud\\nTopic Icon\\nWhat is Generative AI in a Cloud Context?\\nTopic Icon\\nDifferences Between Local vs Cloud-Based Generative AI\\nTopic Icon\\nUse Cases: AI Agents, Chatbots, Text-to-Image, Code Assistants\\nTopic Icon\\nCloud Provider Comparison: AWS vs Azure vs GCP vs Hugging Face vs OpenAI\\nTopic Icon\\nKey Components: Model APIs, Storage, Serverless Compute, GPU Instances, Vector DBs\\n\\nGenAI Building Blocks & Architecture\\nTopic Icon\\nCore Architecture: Frontend ↔ API Layer ↔ Model ↔ Storage\\nTopic Icon\\nDeployment Flow: Prompt → Model API → Output → Logging\\nTopic Icon\\nCloud GenAI Architecture Patterns\\nTopic Icon\\nRAG Pipeline\\nTopic Icon\\nAgent Execution Flow\\nTopic Icon\\nImage + Text Generation\\nTopic Icon\\nDev Tools: GitHub, VS Code, LangChain, Streamlit/Gradio, FastAPI\\n\\nGenAI on AWS\\nTopic Icon\\nAWS Bedrock\\nTopic Icon\\nAccessing Claude, Titan, LLaMA via Bedrock\\nTopic Icon\\nBedrock API setup and playground\\nTopic Icon\\nAmazon SageMaker JumpStart\\nTopic Icon\\nDeploying Pre-trained Foundation Models (T5, Falcon)\\nTopic Icon\\nFine-Tuning & Inference Endpoint\\nTopic Icon\\nHugging Face on SageMaker\\nTopic Icon\\nAWS Lambda + API Gateway\\nTopic Icon\\nServerless LLM pipelines\\nTopic Icon\\nEvent-driven prompt processing\\nTopic Icon\\nAWS S3 + DynamoDB\\nTopic Icon\\nStore prompt history, logs, and outputs\\nTopic Icon\\nHosting RAG Application\\nTopic Icon\\nLLM + FAISS + OpenSearch + FastAPI\\n\\nGenAI on Azure\\nTopic Icon\\nAzure OpenAI Service\\nTopic Icon\\nUsing GPT-4, Codex, and Embeddings via Azure\\nTopic Icon\\nRate limiting, usage quotas, regions\\nTopic Icon\\nAzure ML + Hugging Face\\nTopic Icon\\nFine-tune or deploy LLaMA/DistilGPT on managed compute\\nTopic Icon\\nAzure Functions for Inference\\nTopic Icon\\nStateless REST APIs for prompt → response\\nTopic Icon\\nAzure Blob Storage & Cosmos DB\\nTopic Icon\\nFile + text chunk storage and metadata handling\\nTopic Icon\\nAzure AI Search + RAG Setup\\nTopic Icon\\nIndex unstructured data and use with GPT\\n\\nGenAI on Google Cloud (GCP)\\nTopic Icon\\nGemini (Vertex AI Studio)\\nTopic Icon\\nGemini 1.5 Pro Prompting, JSON Structuring\\nTopic Icon\\nAPI key access & project setup\\nTopic Icon\\nVertex AI PaLM Models\\nTopic Icon\\nText & chat APIs\\nTopic Icon\\nEmbeddings + RAG in Vertex pipelines\\nTopic Icon\\nCloud Functions & Cloud Run\\nTopic Icon\\nDeploy APIs for chatbots or assistants\\nTopic Icon\\nBigQuery + Cloud Storage\\nTopic Icon\\nLogging prompt-response cycles\\nTopic Icon\\nMetadata store for prompt experiments\\n\\nHugging Face & Open-Source Cloud Deployments\\nTopic Icon\\nHugging Face Inference Endpoints\\nTopic Icon\\nDeploy custom models (Falcon, Mistral, Bloom)\\nTopic Icon\\nControl security, auth, autoscaling\\nTopic Icon\\nSpaces with Gradio & Streamlit\\nTopic Icon\\nBuild GenAI UI on Hugging Face Spaces\\nTopic Icon\\nShare projects publicly or privately\\nTopic Icon\\nWeights & Biases for Prompt/Model Tracking\\nTopic Icon\\nOpen-Source on GPU VMs (EC2/GCP/Azure)\\nTopic Icon\\nRun models via Docker (text-generation-webui, llama.cpp)\\nTopic Icon\\nModel quantization + LoRA\\n\\nVector DBs & Embedding Integration in Cloud\\nTopic Icon\\nEmbedding Models\\nTopic Icon\\nOpenAI, Cohere, Hugging Face, Gemini Text Embedding APIs\\nTopic Icon\\nCloud Vector Stores\\nTopic Icon\\nPinecone\\nTopic Icon\\nWeaviate on GCP\\nTopic Icon\\nChromaDB on EC2 / Azure\\nTopic Icon\\nQdrant Cloud\\nTopic Icon\\nConnecting LangChain / LlamaIndex\\nTopic Icon\\nRAG Pipelines in Cloud + Vector Store + UI\\nPrompt Engineering & LLMOps in Cloud\\nTopic Icon\\nPrompt Lifecycle in Production\\nTopic Icon\\nPrompt Templates & Reusability (LangChain + PromptLayer)\\nTopic Icon\\nLLM Evaluation: GPT Judge, Trulens\\nTopic Icon\\nCI/CD for GenAI Apps\\nTopic Icon\\nGitHub Actions, DockerHub\\nTopic Icon\\nAuto-deploy Streamlit/FastAPI via Railway/Render/Cloud Run\\nAgents, Tools & Cloud APIs\\nTopic Icon\\nLangChain Agents + Cloud Functions\\nTopic Icon\\nCrewAI Agents Hosted on Render/EC2\\nTopic Icon\\nOpenAI Tools (Function Calling)\\nTopic Icon\\nRetrieval APIs + Calendar APIs + Google Sheets APIs\\nTopic Icon\\nZapier/N8N Integration in Agent Flows\\nGenAI Monitoring & Logging\\nTopic Icon\\nLog Everything: Prompt, Completion, User Input, Token Usage\\nTopic Icon\\nCloud Observability Tools\\nTopic Icon\\nAWS CloudWatch\\nTopic Icon\\nAzure Monitor\\nTopic Icon\\nGCP Logging\\nTopic Icon\\nDashboarding with Grafana / Superset\\nTopic Icon\\nFail-Safe Mechanisms (Fallback Prompts, Retry on Token Errors)\\nSecurity, Compliance & Cost Management\\nTopic Icon\\nSecrets Management (AWS Secrets Manager, Azure Key Vault)\\nTopic Icon\\nSecure Access to APIs (JWT, OAuth, API Keys)\\nTopic Icon\\nModel Cost Estimation (OpenAI Token Cost, API Cost Logs)\\nTopic Icon\\nUsage Quotas & Budget Alerts\\nTopic Icon\\nCompliance Guidelines: SOC2, HIPAA, GDPR in GenAI Apps\\nCapstone Projects (Cloud-Based)\\nTopic Icon\\nProject 1: PDF + Website Knowledge Chatbot\\nTopic Icon\\nGCP + Gemini + FAISS + Streamlit UI\\nTopic Icon\\nProject 2: Image + Text Generator\\nTopic Icon\\nAWS Bedrock (Titan + Claude) + Gradio + S3 Storage\\nTopic Icon\\nProject 3: Serverless Resume Analyzer\\nTopic Icon\\nAzure OpenAI + Functions + CosmosDB + Blob Storage\\nTopic Icon\\nProject 4: LLM Agent + Tool Integration\\nTopic Icon\\nCrewAI + FastAPI + N8N on EC2\\nTopic Icon\\nProject 5: Enterprise GenAI Analytics App\\nTopic Icon\\nPrompt Evaluator + Feedback + Logging Dashboard + Multi-user Auth\\nShow less sections\\nMeet Your Instructors\\nSudhanshu Kumar's profile\\nSudhanshu Kumar\\nProgramming | Data Science | Machine Learning | Deep Learning | NLP | Computer Vision | Generative AI | Big Data | Data Analytics\\nMy journey has been one of dedication, resilience, and a deeply personal mission to make education accessible to everyone. Coming from a humble background in Jamshedpur, Jharkhand, I know firsthand the challenges of pursuing quality education without financial ease. My early experiences motiva...\")]"
      ]
     },
     "execution_count": 207,
     "metadata": {},
     "output_type": "execute_result"
    }
   ],
   "source": [
    "from langchain.document_loaders import TextLoader\n",
    "from langchain.text_splitter import RecursiveCharacterTextSplitter\n",
    "\n",
    "document = TextLoader(\"knowledgebase.txt\", encoding=\"utf-8\").load()  # Load the text file\n",
    "document\n"
   ]
  },
  {
   "cell_type": "code",
   "execution_count": 208,
   "id": "3b22597d",
   "metadata": {},
   "outputs": [],
   "source": [
    "text_splitter = RecursiveCharacterTextSplitter(\n",
    "    chunk_size=300,  # Adjust chunk size as needed\n",
    "    chunk_overlap=30  # Adjust overlap as needed\n",
    ")\n",
    "docs  = text_splitter.split_documents(document)  # Split the document into chunks"
   ]
  },
  {
   "cell_type": "code",
   "execution_count": 209,
   "id": "5c569902",
   "metadata": {},
   "outputs": [
    {
     "data": {
      "text/plain": [
       "58"
      ]
     },
     "execution_count": 209,
     "metadata": {},
     "output_type": "execute_result"
    }
   ],
   "source": [
    "len(docs)"
   ]
  },
  {
   "cell_type": "code",
   "execution_count": 210,
   "id": "9effd66e",
   "metadata": {},
   "outputs": [
    {
     "data": {
      "text/plain": [
       "[Document(metadata={'source': 'knowledgebase.txt'}, page_content='Making an Impact\\nHelping Millions of Students Succeed'),\n",
       " Document(metadata={'source': 'knowledgebase.txt'}, page_content=\"Sudhanshu's commitment to affordable education wasn't just a business strategy—it was his life's mission. Over the years, iNeuron has helped over 1.5 million students from 34+ countries, providing them with the skills they need to succeed in today's competitive job market. Many of these students,\"),\n",
       " Document(metadata={'source': 'knowledgebase.txt'}, page_content='Many of these students, like Sudhanshu himself, came from disadvantaged backgrounds. They saw iNeuron as a lifeline—an opportunity to rise above their circumstances.'),\n",
       " Document(metadata={'source': 'knowledgebase.txt'}, page_content='In 2022, iNeuron was acquired by PhysicsWallah in a deal worth ₹250 crore. While this acquisition was a significant milestone, Sudhanshu remained focused on his mission. Even after the acquisition, iNeuron continued to offer some of the most affordable and accessible tech courses in the world.'),\n",
       " Document(metadata={'source': 'knowledgebase.txt'}, page_content=\"The Entrepreneur and Teacher: Sudhanshu's Dual Legacy\"),\n",
       " Document(metadata={'source': 'knowledgebase.txt'}, page_content=\"Sudhanshu's journey isn't just one of entrepreneurial success; it's also a story of dedication to teaching. Throughout his career, he has remained a passionate educator, constantly looking for ways to empower others through knowledge. Whether teaching courses in Big Data, Data Science, or\"),\n",
       " Document(metadata={'source': 'knowledgebase.txt'}, page_content='in Big Data, Data Science, or programming, Sudhanshu has always sought to make complex subjects accessible to learners at all levels.'),\n",
       " Document(metadata={'source': 'knowledgebase.txt'}, page_content='His commitment to affordable education has earned him the respect and admiration of countless students. Many credit Sudhanshu with changing their lives, helping them secure jobs, improve their skills, and break free from the limitations of their backgrounds.\\n\\nThe Journey'),\n",
       " Document(metadata={'source': 'knowledgebase.txt'}, page_content='The Journey\\n\\nEarly Life and the Power of Education\\n\\nRising Through the Ranks of the Tech World\\n\\nThe Birth of iNeuron: Democratizing Education'),\n",
       " Document(metadata={'source': 'knowledgebase.txt'}, page_content='The Foundation of Euron: Expanding the Mission\\nEarly Life and the Power of Education\\nEarly Life and the Power of Education'),\n",
       " Document(metadata={'source': 'knowledgebase.txt'}, page_content=\"Sudhanshu Kumar's life is a story of triumph over adversity, driven by the belief in the transformative power of education. Born in Jamshedpur, Jharkhand, India, to a family of very modest means, Sudhanshu's early years were marked by financial hardship. His surroundings offered little opportunity,\"),\n",
       " Document(metadata={'source': 'knowledgebase.txt'}, page_content='offered little opportunity, and resources were limited, yet he understood from a young age that education could be his ticket out of poverty.'),\n",
       " Document(metadata={'source': 'knowledgebase.txt'}, page_content='While many would have been daunted by the lack of support and opportunity, Sudhanshu was relentless in his pursuit of knowledge. He knew that education had the power to change lives, and he was determined to leverage it to create a better future for himself and his family. Despite the numerous'),\n",
       " Document(metadata={'source': 'knowledgebase.txt'}, page_content='family. Despite the numerous challenges along the way, Sudhanshu excelled academically, eventually earning a degree in Computer Science and Engineering (CSE).'),\n",
       " Document(metadata={'source': 'knowledgebase.txt'}, page_content='After completing his education, Sudhanshu began his professional journey in the tech industry, working with prestigious companies like Wipro, Deloitte, Verizon Labs, and Ernst & Young. During this time, he gained expertise in various technologies and frameworks, including SAP WebDynpro, Fiori UI5'),\n",
       " Document(metadata={'source': 'knowledgebase.txt'}, page_content='SAP WebDynpro, Fiori UI5 HANA, Java, Big Data, Data Analytics, and more. He became a well-rounded technologist, well-respected in his field.'),\n",
       " Document(metadata={'source': 'knowledgebase.txt'}, page_content='Despite his growing success, Sudhanshu never forgot his roots. He knew that there were many others who, like him, came from humble backgrounds and were looking for an opportunity to change their lives through education. It was during this time that Sudhanshu realized a harsh truth: quality'),\n",
       " Document(metadata={'source': 'knowledgebase.txt'}, page_content='a harsh truth: quality education was often inaccessible to those who needed it the most. The high cost of education barred millions of people from pursuing their dreams, especially in tech fields that required specialized skills.'),\n",
       " Document(metadata={'source': 'knowledgebase.txt'}, page_content='Fueled by his passion for making education accessible, Sudhanshu decided to take action. In 2019, he founded iNeuron Intelligence Private Limited, an edtech platform that would make tech upskilling affordable and accessible for everyone. His mission was clear: to provide high-quality courses at a'),\n",
       " Document(metadata={'source': 'knowledgebase.txt'}, page_content='high-quality courses at a price so low that even those from the most disadvantaged backgrounds could afford to learn.'),\n",
       " Document(metadata={'source': 'knowledgebase.txt'}, page_content='iNeuron was designed to be more than just an online learning platform. It offered a comprehensive bundle of resources, including courses, books, hands-on projects, and live classes, making sure that learners could gain real-world, applicable skills. Most importantly, iNeuron was priced to ensure no'),\n",
       " Document(metadata={'source': 'knowledgebase.txt'}, page_content='was priced to ensure no student would be left behind due to financial constraints.'),\n",
       " Document(metadata={'source': 'knowledgebase.txt'}, page_content=\"The company quickly gained traction, thanks to Sudhanshu's focus on affordability and quality. In 2021, iNeuron raised $3 million in funding from S. Chand, a leading education publisher. This allowed iNeuron to expand its offerings and reach a larger audience.\"),\n",
       " Document(metadata={'source': 'knowledgebase.txt'}, page_content='Building on the success of iNeuron, Sudhanshu is now leading Euron, a unified platform for tech upskilling. Euron is designed for enterprises, schools, colleges, government organizations, and individuals looking to improve their tech skills. The platform provides a comprehensive bundle of'),\n",
       " Document(metadata={'source': 'knowledgebase.txt'}, page_content=\"a comprehensive bundle of resources, including courses, books, live classes, and projects. Euron's unique offering is its ability to provide licenses at scale—organizations can subscribe to provide their teams with unlimited access to learning materials for just 1600 INR per year per license.\"),\n",
       " Document(metadata={'source': 'knowledgebase.txt'}, page_content=\"For individuals, Euron Plus offers a similar plan, priced at 2900 INR per year, giving learners access to all of Euron's content, along with 24/7 support through Euron Assist. The idea is simple: anyone, anywhere, should have the opportunity to upskill without financial barriers.\"),\n",
       " Document(metadata={'source': 'knowledgebase.txt'}, page_content='The Euron Motto: Education for All, Without Limits'),\n",
       " Document(metadata={'source': 'knowledgebase.txt'}, page_content=\"At the heart of Euron's philosophy is a single, powerful idea: Education for All, Without Limits. Sudhanshu believes that every person deserves the chance to learn, grow, and succeed, regardless of their financial situation or background. This belief is what drives Euron's mission to make tech\"),\n",
       " Document(metadata={'source': 'knowledgebase.txt'}, page_content=\"Euron's mission to make tech education not just affordable but also accessible to anyone, anywhere in the world.\"),\n",
       " Document(metadata={'source': 'knowledgebase.txt'}, page_content='Home >'),\n",
       " Document(metadata={'source': 'knowledgebase.txt'}, page_content='Generative AI\\nGenerative AI with Cloud'),\n",
       " Document(metadata={'source': 'knowledgebase.txt'}, page_content='Generative AI with Cloud is a practical course that combines generative AI techniques with cloud platforms like AWS, Azure, and GCP. Learn to deploy and scale models, integrate APIs, manage storage, and build intelligent applications using tools like Vertex AI, Bedrock, and OpenAI. Ideal for'),\n",
       " Document(metadata={'source': 'knowledgebase.txt'}, page_content='and OpenAI. Ideal for real-world, cloud-powered AI solutions.'),\n",
       " Document(metadata={'source': 'knowledgebase.txt'}, page_content='🌐\\nEnglish\\nGenerative AI with Cloud\\nThis course is included in plans\\n\\n📚\\nContinue Learning\\nWhat you will get\\ntick-svg\\nCertificate of Completion\\n\\ntick-svg\\nWhatsApp Group Access\\n\\ntick-svg\\nEURI AI Tool Access\\n\\ntick-svg\\nResume AI Tool\\n\\ntick-svg\\nJob Portal Access\\n\\ntick-svg\\nAvni – AI Interview Coach'),\n",
       " Document(metadata={'source': 'knowledgebase.txt'}, page_content='tick-svg\\nNo Prerequisites Required\\n\\ntick-svg\\nQuiz in Every Module\\n\\ntick-svg\\nChallenges in Every Module\\n\\ntick-svg\\nCareer-Ready Portfolio\\n\\ntick-svg\\nResources in all Module\\n\\ntick-svg\\nOne module release every Monday\\n\\nCourse content\\n12 sections • 100 Subtopics\\n\\nCollapse all sections'),\n",
       " Document(metadata={'source': 'knowledgebase.txt'}, page_content='Introduction to Generative AI in the Cloud\\nTopic Icon\\nWhat is Generative AI in a Cloud Context?\\nTopic Icon\\nDifferences Between Local vs Cloud-Based Generative AI\\nTopic Icon\\nUse Cases: AI Agents, Chatbots, Text-to-Image, Code Assistants\\nTopic Icon'),\n",
       " Document(metadata={'source': 'knowledgebase.txt'}, page_content='Topic Icon\\nCloud Provider Comparison: AWS vs Azure vs GCP vs Hugging Face vs OpenAI\\nTopic Icon\\nKey Components: Model APIs, Storage, Serverless Compute, GPU Instances, Vector DBs'),\n",
       " Document(metadata={'source': 'knowledgebase.txt'}, page_content='GenAI Building Blocks & Architecture\\nTopic Icon\\nCore Architecture: Frontend ↔ API Layer ↔ Model ↔ Storage\\nTopic Icon\\nDeployment Flow: Prompt → Model API → Output → Logging\\nTopic Icon\\nCloud GenAI Architecture Patterns\\nTopic Icon\\nRAG Pipeline\\nTopic Icon\\nAgent Execution Flow\\nTopic Icon'),\n",
       " Document(metadata={'source': 'knowledgebase.txt'}, page_content='Topic Icon\\nImage + Text Generation\\nTopic Icon\\nDev Tools: GitHub, VS Code, LangChain, Streamlit/Gradio, FastAPI'),\n",
       " Document(metadata={'source': 'knowledgebase.txt'}, page_content='GenAI on AWS\\nTopic Icon\\nAWS Bedrock\\nTopic Icon\\nAccessing Claude, Titan, LLaMA via Bedrock\\nTopic Icon\\nBedrock API setup and playground\\nTopic Icon\\nAmazon SageMaker JumpStart\\nTopic Icon\\nDeploying Pre-trained Foundation Models (T5, Falcon)\\nTopic Icon\\nFine-Tuning & Inference Endpoint\\nTopic Icon'),\n",
       " Document(metadata={'source': 'knowledgebase.txt'}, page_content='Topic Icon\\nHugging Face on SageMaker\\nTopic Icon\\nAWS Lambda + API Gateway\\nTopic Icon\\nServerless LLM pipelines\\nTopic Icon\\nEvent-driven prompt processing\\nTopic Icon\\nAWS S3 + DynamoDB\\nTopic Icon\\nStore prompt history, logs, and outputs\\nTopic Icon\\nHosting RAG Application\\nTopic Icon'),\n",
       " Document(metadata={'source': 'knowledgebase.txt'}, page_content='Topic Icon\\nLLM + FAISS + OpenSearch + FastAPI'),\n",
       " Document(metadata={'source': 'knowledgebase.txt'}, page_content='GenAI on Azure\\nTopic Icon\\nAzure OpenAI Service\\nTopic Icon\\nUsing GPT-4, Codex, and Embeddings via Azure\\nTopic Icon\\nRate limiting, usage quotas, regions\\nTopic Icon\\nAzure ML + Hugging Face\\nTopic Icon\\nFine-tune or deploy LLaMA/DistilGPT on managed compute\\nTopic Icon\\nAzure Functions for Inference'),\n",
       " Document(metadata={'source': 'knowledgebase.txt'}, page_content='Azure Functions for Inference\\nTopic Icon\\nStateless REST APIs for prompt → response\\nTopic Icon\\nAzure Blob Storage & Cosmos DB\\nTopic Icon\\nFile + text chunk storage and metadata handling\\nTopic Icon\\nAzure AI Search + RAG Setup\\nTopic Icon\\nIndex unstructured data and use with GPT'),\n",
       " Document(metadata={'source': 'knowledgebase.txt'}, page_content='GenAI on Google Cloud (GCP)\\nTopic Icon\\nGemini (Vertex AI Studio)\\nTopic Icon\\nGemini 1.5 Pro Prompting, JSON Structuring\\nTopic Icon\\nAPI key access & project setup\\nTopic Icon\\nVertex AI PaLM Models\\nTopic Icon\\nText & chat APIs\\nTopic Icon\\nEmbeddings + RAG in Vertex pipelines\\nTopic Icon'),\n",
       " Document(metadata={'source': 'knowledgebase.txt'}, page_content='Topic Icon\\nCloud Functions & Cloud Run\\nTopic Icon\\nDeploy APIs for chatbots or assistants\\nTopic Icon\\nBigQuery + Cloud Storage\\nTopic Icon\\nLogging prompt-response cycles\\nTopic Icon\\nMetadata store for prompt experiments'),\n",
       " Document(metadata={'source': 'knowledgebase.txt'}, page_content='Hugging Face & Open-Source Cloud Deployments\\nTopic Icon\\nHugging Face Inference Endpoints\\nTopic Icon\\nDeploy custom models (Falcon, Mistral, Bloom)\\nTopic Icon\\nControl security, auth, autoscaling\\nTopic Icon\\nSpaces with Gradio & Streamlit\\nTopic Icon\\nBuild GenAI UI on Hugging Face Spaces\\nTopic Icon'),\n",
       " Document(metadata={'source': 'knowledgebase.txt'}, page_content='Topic Icon\\nShare projects publicly or privately\\nTopic Icon\\nWeights & Biases for Prompt/Model Tracking\\nTopic Icon\\nOpen-Source on GPU VMs (EC2/GCP/Azure)\\nTopic Icon\\nRun models via Docker (text-generation-webui, llama.cpp)\\nTopic Icon\\nModel quantization + LoRA'),\n",
       " Document(metadata={'source': 'knowledgebase.txt'}, page_content='Vector DBs & Embedding Integration in Cloud\\nTopic Icon\\nEmbedding Models\\nTopic Icon\\nOpenAI, Cohere, Hugging Face, Gemini Text Embedding APIs\\nTopic Icon\\nCloud Vector Stores\\nTopic Icon\\nPinecone\\nTopic Icon\\nWeaviate on GCP\\nTopic Icon\\nChromaDB on EC2 / Azure\\nTopic Icon\\nQdrant Cloud\\nTopic Icon'),\n",
       " Document(metadata={'source': 'knowledgebase.txt'}, page_content='Qdrant Cloud\\nTopic Icon\\nConnecting LangChain / LlamaIndex\\nTopic Icon\\nRAG Pipelines in Cloud + Vector Store + UI\\nPrompt Engineering & LLMOps in Cloud\\nTopic Icon\\nPrompt Lifecycle in Production\\nTopic Icon\\nPrompt Templates & Reusability (LangChain + PromptLayer)\\nTopic Icon'),\n",
       " Document(metadata={'source': 'knowledgebase.txt'}, page_content='Topic Icon\\nLLM Evaluation: GPT Judge, Trulens\\nTopic Icon\\nCI/CD for GenAI Apps\\nTopic Icon\\nGitHub Actions, DockerHub\\nTopic Icon\\nAuto-deploy Streamlit/FastAPI via Railway/Render/Cloud Run\\nAgents, Tools & Cloud APIs\\nTopic Icon\\nLangChain Agents + Cloud Functions\\nTopic Icon'),\n",
       " Document(metadata={'source': 'knowledgebase.txt'}, page_content='Topic Icon\\nCrewAI Agents Hosted on Render/EC2\\nTopic Icon\\nOpenAI Tools (Function Calling)\\nTopic Icon\\nRetrieval APIs + Calendar APIs + Google Sheets APIs\\nTopic Icon\\nZapier/N8N Integration in Agent Flows\\nGenAI Monitoring & Logging\\nTopic Icon\\nLog Everything: Prompt, Completion, User Input, Token Usage'),\n",
       " Document(metadata={'source': 'knowledgebase.txt'}, page_content='Topic Icon\\nCloud Observability Tools\\nTopic Icon\\nAWS CloudWatch\\nTopic Icon\\nAzure Monitor\\nTopic Icon\\nGCP Logging\\nTopic Icon\\nDashboarding with Grafana / Superset\\nTopic Icon\\nFail-Safe Mechanisms (Fallback Prompts, Retry on Token Errors)\\nSecurity, Compliance & Cost Management\\nTopic Icon'),\n",
       " Document(metadata={'source': 'knowledgebase.txt'}, page_content='Topic Icon\\nSecrets Management (AWS Secrets Manager, Azure Key Vault)\\nTopic Icon\\nSecure Access to APIs (JWT, OAuth, API Keys)\\nTopic Icon\\nModel Cost Estimation (OpenAI Token Cost, API Cost Logs)\\nTopic Icon\\nUsage Quotas & Budget Alerts\\nTopic Icon\\nCompliance Guidelines: SOC2, HIPAA, GDPR in GenAI Apps'),\n",
       " Document(metadata={'source': 'knowledgebase.txt'}, page_content='Capstone Projects (Cloud-Based)\\nTopic Icon\\nProject 1: PDF + Website Knowledge Chatbot\\nTopic Icon\\nGCP + Gemini + FAISS + Streamlit UI\\nTopic Icon\\nProject 2: Image + Text Generator\\nTopic Icon\\nAWS Bedrock (Titan + Claude) + Gradio + S3 Storage\\nTopic Icon\\nProject 3: Serverless Resume Analyzer\\nTopic Icon'),\n",
       " Document(metadata={'source': 'knowledgebase.txt'}, page_content='Topic Icon\\nAzure OpenAI + Functions + CosmosDB + Blob Storage\\nTopic Icon\\nProject 4: LLM Agent + Tool Integration\\nTopic Icon\\nCrewAI + FastAPI + N8N on EC2\\nTopic Icon\\nProject 5: Enterprise GenAI Analytics App\\nTopic Icon\\nPrompt Evaluator + Feedback + Logging Dashboard + Multi-user Auth'),\n",
       " Document(metadata={'source': 'knowledgebase.txt'}, page_content=\"Show less sections\\nMeet Your Instructors\\nSudhanshu Kumar's profile\\nSudhanshu Kumar\\nProgramming | Data Science | Machine Learning | Deep Learning | NLP | Computer Vision | Generative AI | Big Data | Data Analytics\"),\n",
       " Document(metadata={'source': 'knowledgebase.txt'}, page_content='My journey has been one of dedication, resilience, and a deeply personal mission to make education accessible to everyone. Coming from a humble background in Jamshedpur, Jharkhand, I know firsthand the challenges of pursuing quality education without financial ease. My early experiences motiva...')]"
      ]
     },
     "execution_count": 210,
     "metadata": {},
     "output_type": "execute_result"
    }
   ],
   "source": [
    "docs "
   ]
  },
  {
   "cell_type": "code",
   "execution_count": 211,
   "id": "d5e65e11",
   "metadata": {},
   "outputs": [
    {
     "data": {
      "text/plain": [
       "['Making an Impact\\nHelping Millions of Students Succeed',\n",
       " \"Sudhanshu's commitment to affordable education wasn't just a business strategy—it was his life's mission. Over the years, iNeuron has helped over 1.5 million students from 34+ countries, providing them with the skills they need to succeed in today's competitive job market. Many of these students,\",\n",
       " 'Many of these students, like Sudhanshu himself, came from disadvantaged backgrounds. They saw iNeuron as a lifeline—an opportunity to rise above their circumstances.',\n",
       " 'In 2022, iNeuron was acquired by PhysicsWallah in a deal worth ₹250 crore. While this acquisition was a significant milestone, Sudhanshu remained focused on his mission. Even after the acquisition, iNeuron continued to offer some of the most affordable and accessible tech courses in the world.',\n",
       " \"The Entrepreneur and Teacher: Sudhanshu's Dual Legacy\",\n",
       " \"Sudhanshu's journey isn't just one of entrepreneurial success; it's also a story of dedication to teaching. Throughout his career, he has remained a passionate educator, constantly looking for ways to empower others through knowledge. Whether teaching courses in Big Data, Data Science, or\",\n",
       " 'in Big Data, Data Science, or programming, Sudhanshu has always sought to make complex subjects accessible to learners at all levels.',\n",
       " 'His commitment to affordable education has earned him the respect and admiration of countless students. Many credit Sudhanshu with changing their lives, helping them secure jobs, improve their skills, and break free from the limitations of their backgrounds.\\n\\nThe Journey',\n",
       " 'The Journey\\n\\nEarly Life and the Power of Education\\n\\nRising Through the Ranks of the Tech World\\n\\nThe Birth of iNeuron: Democratizing Education',\n",
       " 'The Foundation of Euron: Expanding the Mission\\nEarly Life and the Power of Education\\nEarly Life and the Power of Education',\n",
       " \"Sudhanshu Kumar's life is a story of triumph over adversity, driven by the belief in the transformative power of education. Born in Jamshedpur, Jharkhand, India, to a family of very modest means, Sudhanshu's early years were marked by financial hardship. His surroundings offered little opportunity,\",\n",
       " 'offered little opportunity, and resources were limited, yet he understood from a young age that education could be his ticket out of poverty.',\n",
       " 'While many would have been daunted by the lack of support and opportunity, Sudhanshu was relentless in his pursuit of knowledge. He knew that education had the power to change lives, and he was determined to leverage it to create a better future for himself and his family. Despite the numerous',\n",
       " 'family. Despite the numerous challenges along the way, Sudhanshu excelled academically, eventually earning a degree in Computer Science and Engineering (CSE).',\n",
       " 'After completing his education, Sudhanshu began his professional journey in the tech industry, working with prestigious companies like Wipro, Deloitte, Verizon Labs, and Ernst & Young. During this time, he gained expertise in various technologies and frameworks, including SAP WebDynpro, Fiori UI5',\n",
       " 'SAP WebDynpro, Fiori UI5 HANA, Java, Big Data, Data Analytics, and more. He became a well-rounded technologist, well-respected in his field.',\n",
       " 'Despite his growing success, Sudhanshu never forgot his roots. He knew that there were many others who, like him, came from humble backgrounds and were looking for an opportunity to change their lives through education. It was during this time that Sudhanshu realized a harsh truth: quality',\n",
       " 'a harsh truth: quality education was often inaccessible to those who needed it the most. The high cost of education barred millions of people from pursuing their dreams, especially in tech fields that required specialized skills.',\n",
       " 'Fueled by his passion for making education accessible, Sudhanshu decided to take action. In 2019, he founded iNeuron Intelligence Private Limited, an edtech platform that would make tech upskilling affordable and accessible for everyone. His mission was clear: to provide high-quality courses at a',\n",
       " 'high-quality courses at a price so low that even those from the most disadvantaged backgrounds could afford to learn.',\n",
       " 'iNeuron was designed to be more than just an online learning platform. It offered a comprehensive bundle of resources, including courses, books, hands-on projects, and live classes, making sure that learners could gain real-world, applicable skills. Most importantly, iNeuron was priced to ensure no',\n",
       " 'was priced to ensure no student would be left behind due to financial constraints.',\n",
       " \"The company quickly gained traction, thanks to Sudhanshu's focus on affordability and quality. In 2021, iNeuron raised $3 million in funding from S. Chand, a leading education publisher. This allowed iNeuron to expand its offerings and reach a larger audience.\",\n",
       " 'Building on the success of iNeuron, Sudhanshu is now leading Euron, a unified platform for tech upskilling. Euron is designed for enterprises, schools, colleges, government organizations, and individuals looking to improve their tech skills. The platform provides a comprehensive bundle of',\n",
       " \"a comprehensive bundle of resources, including courses, books, live classes, and projects. Euron's unique offering is its ability to provide licenses at scale—organizations can subscribe to provide their teams with unlimited access to learning materials for just 1600 INR per year per license.\",\n",
       " \"For individuals, Euron Plus offers a similar plan, priced at 2900 INR per year, giving learners access to all of Euron's content, along with 24/7 support through Euron Assist. The idea is simple: anyone, anywhere, should have the opportunity to upskill without financial barriers.\",\n",
       " 'The Euron Motto: Education for All, Without Limits',\n",
       " \"At the heart of Euron's philosophy is a single, powerful idea: Education for All, Without Limits. Sudhanshu believes that every person deserves the chance to learn, grow, and succeed, regardless of their financial situation or background. This belief is what drives Euron's mission to make tech\",\n",
       " \"Euron's mission to make tech education not just affordable but also accessible to anyone, anywhere in the world.\",\n",
       " 'Home >',\n",
       " 'Generative AI\\nGenerative AI with Cloud',\n",
       " 'Generative AI with Cloud is a practical course that combines generative AI techniques with cloud platforms like AWS, Azure, and GCP. Learn to deploy and scale models, integrate APIs, manage storage, and build intelligent applications using tools like Vertex AI, Bedrock, and OpenAI. Ideal for',\n",
       " 'and OpenAI. Ideal for real-world, cloud-powered AI solutions.',\n",
       " '🌐\\nEnglish\\nGenerative AI with Cloud\\nThis course is included in plans\\n\\n📚\\nContinue Learning\\nWhat you will get\\ntick-svg\\nCertificate of Completion\\n\\ntick-svg\\nWhatsApp Group Access\\n\\ntick-svg\\nEURI AI Tool Access\\n\\ntick-svg\\nResume AI Tool\\n\\ntick-svg\\nJob Portal Access\\n\\ntick-svg\\nAvni – AI Interview Coach',\n",
       " 'tick-svg\\nNo Prerequisites Required\\n\\ntick-svg\\nQuiz in Every Module\\n\\ntick-svg\\nChallenges in Every Module\\n\\ntick-svg\\nCareer-Ready Portfolio\\n\\ntick-svg\\nResources in all Module\\n\\ntick-svg\\nOne module release every Monday\\n\\nCourse content\\n12 sections • 100 Subtopics\\n\\nCollapse all sections',\n",
       " 'Introduction to Generative AI in the Cloud\\nTopic Icon\\nWhat is Generative AI in a Cloud Context?\\nTopic Icon\\nDifferences Between Local vs Cloud-Based Generative AI\\nTopic Icon\\nUse Cases: AI Agents, Chatbots, Text-to-Image, Code Assistants\\nTopic Icon',\n",
       " 'Topic Icon\\nCloud Provider Comparison: AWS vs Azure vs GCP vs Hugging Face vs OpenAI\\nTopic Icon\\nKey Components: Model APIs, Storage, Serverless Compute, GPU Instances, Vector DBs',\n",
       " 'GenAI Building Blocks & Architecture\\nTopic Icon\\nCore Architecture: Frontend ↔ API Layer ↔ Model ↔ Storage\\nTopic Icon\\nDeployment Flow: Prompt → Model API → Output → Logging\\nTopic Icon\\nCloud GenAI Architecture Patterns\\nTopic Icon\\nRAG Pipeline\\nTopic Icon\\nAgent Execution Flow\\nTopic Icon',\n",
       " 'Topic Icon\\nImage + Text Generation\\nTopic Icon\\nDev Tools: GitHub, VS Code, LangChain, Streamlit/Gradio, FastAPI',\n",
       " 'GenAI on AWS\\nTopic Icon\\nAWS Bedrock\\nTopic Icon\\nAccessing Claude, Titan, LLaMA via Bedrock\\nTopic Icon\\nBedrock API setup and playground\\nTopic Icon\\nAmazon SageMaker JumpStart\\nTopic Icon\\nDeploying Pre-trained Foundation Models (T5, Falcon)\\nTopic Icon\\nFine-Tuning & Inference Endpoint\\nTopic Icon',\n",
       " 'Topic Icon\\nHugging Face on SageMaker\\nTopic Icon\\nAWS Lambda + API Gateway\\nTopic Icon\\nServerless LLM pipelines\\nTopic Icon\\nEvent-driven prompt processing\\nTopic Icon\\nAWS S3 + DynamoDB\\nTopic Icon\\nStore prompt history, logs, and outputs\\nTopic Icon\\nHosting RAG Application\\nTopic Icon',\n",
       " 'Topic Icon\\nLLM + FAISS + OpenSearch + FastAPI',\n",
       " 'GenAI on Azure\\nTopic Icon\\nAzure OpenAI Service\\nTopic Icon\\nUsing GPT-4, Codex, and Embeddings via Azure\\nTopic Icon\\nRate limiting, usage quotas, regions\\nTopic Icon\\nAzure ML + Hugging Face\\nTopic Icon\\nFine-tune or deploy LLaMA/DistilGPT on managed compute\\nTopic Icon\\nAzure Functions for Inference',\n",
       " 'Azure Functions for Inference\\nTopic Icon\\nStateless REST APIs for prompt → response\\nTopic Icon\\nAzure Blob Storage & Cosmos DB\\nTopic Icon\\nFile + text chunk storage and metadata handling\\nTopic Icon\\nAzure AI Search + RAG Setup\\nTopic Icon\\nIndex unstructured data and use with GPT',\n",
       " 'GenAI on Google Cloud (GCP)\\nTopic Icon\\nGemini (Vertex AI Studio)\\nTopic Icon\\nGemini 1.5 Pro Prompting, JSON Structuring\\nTopic Icon\\nAPI key access & project setup\\nTopic Icon\\nVertex AI PaLM Models\\nTopic Icon\\nText & chat APIs\\nTopic Icon\\nEmbeddings + RAG in Vertex pipelines\\nTopic Icon',\n",
       " 'Topic Icon\\nCloud Functions & Cloud Run\\nTopic Icon\\nDeploy APIs for chatbots or assistants\\nTopic Icon\\nBigQuery + Cloud Storage\\nTopic Icon\\nLogging prompt-response cycles\\nTopic Icon\\nMetadata store for prompt experiments',\n",
       " 'Hugging Face & Open-Source Cloud Deployments\\nTopic Icon\\nHugging Face Inference Endpoints\\nTopic Icon\\nDeploy custom models (Falcon, Mistral, Bloom)\\nTopic Icon\\nControl security, auth, autoscaling\\nTopic Icon\\nSpaces with Gradio & Streamlit\\nTopic Icon\\nBuild GenAI UI on Hugging Face Spaces\\nTopic Icon',\n",
       " 'Topic Icon\\nShare projects publicly or privately\\nTopic Icon\\nWeights & Biases for Prompt/Model Tracking\\nTopic Icon\\nOpen-Source on GPU VMs (EC2/GCP/Azure)\\nTopic Icon\\nRun models via Docker (text-generation-webui, llama.cpp)\\nTopic Icon\\nModel quantization + LoRA',\n",
       " 'Vector DBs & Embedding Integration in Cloud\\nTopic Icon\\nEmbedding Models\\nTopic Icon\\nOpenAI, Cohere, Hugging Face, Gemini Text Embedding APIs\\nTopic Icon\\nCloud Vector Stores\\nTopic Icon\\nPinecone\\nTopic Icon\\nWeaviate on GCP\\nTopic Icon\\nChromaDB on EC2 / Azure\\nTopic Icon\\nQdrant Cloud\\nTopic Icon',\n",
       " 'Qdrant Cloud\\nTopic Icon\\nConnecting LangChain / LlamaIndex\\nTopic Icon\\nRAG Pipelines in Cloud + Vector Store + UI\\nPrompt Engineering & LLMOps in Cloud\\nTopic Icon\\nPrompt Lifecycle in Production\\nTopic Icon\\nPrompt Templates & Reusability (LangChain + PromptLayer)\\nTopic Icon',\n",
       " 'Topic Icon\\nLLM Evaluation: GPT Judge, Trulens\\nTopic Icon\\nCI/CD for GenAI Apps\\nTopic Icon\\nGitHub Actions, DockerHub\\nTopic Icon\\nAuto-deploy Streamlit/FastAPI via Railway/Render/Cloud Run\\nAgents, Tools & Cloud APIs\\nTopic Icon\\nLangChain Agents + Cloud Functions\\nTopic Icon',\n",
       " 'Topic Icon\\nCrewAI Agents Hosted on Render/EC2\\nTopic Icon\\nOpenAI Tools (Function Calling)\\nTopic Icon\\nRetrieval APIs + Calendar APIs + Google Sheets APIs\\nTopic Icon\\nZapier/N8N Integration in Agent Flows\\nGenAI Monitoring & Logging\\nTopic Icon\\nLog Everything: Prompt, Completion, User Input, Token Usage',\n",
       " 'Topic Icon\\nCloud Observability Tools\\nTopic Icon\\nAWS CloudWatch\\nTopic Icon\\nAzure Monitor\\nTopic Icon\\nGCP Logging\\nTopic Icon\\nDashboarding with Grafana / Superset\\nTopic Icon\\nFail-Safe Mechanisms (Fallback Prompts, Retry on Token Errors)\\nSecurity, Compliance & Cost Management\\nTopic Icon',\n",
       " 'Topic Icon\\nSecrets Management (AWS Secrets Manager, Azure Key Vault)\\nTopic Icon\\nSecure Access to APIs (JWT, OAuth, API Keys)\\nTopic Icon\\nModel Cost Estimation (OpenAI Token Cost, API Cost Logs)\\nTopic Icon\\nUsage Quotas & Budget Alerts\\nTopic Icon\\nCompliance Guidelines: SOC2, HIPAA, GDPR in GenAI Apps',\n",
       " 'Capstone Projects (Cloud-Based)\\nTopic Icon\\nProject 1: PDF + Website Knowledge Chatbot\\nTopic Icon\\nGCP + Gemini + FAISS + Streamlit UI\\nTopic Icon\\nProject 2: Image + Text Generator\\nTopic Icon\\nAWS Bedrock (Titan + Claude) + Gradio + S3 Storage\\nTopic Icon\\nProject 3: Serverless Resume Analyzer\\nTopic Icon',\n",
       " 'Topic Icon\\nAzure OpenAI + Functions + CosmosDB + Blob Storage\\nTopic Icon\\nProject 4: LLM Agent + Tool Integration\\nTopic Icon\\nCrewAI + FastAPI + N8N on EC2\\nTopic Icon\\nProject 5: Enterprise GenAI Analytics App\\nTopic Icon\\nPrompt Evaluator + Feedback + Logging Dashboard + Multi-user Auth',\n",
       " \"Show less sections\\nMeet Your Instructors\\nSudhanshu Kumar's profile\\nSudhanshu Kumar\\nProgramming | Data Science | Machine Learning | Deep Learning | NLP | Computer Vision | Generative AI | Big Data | Data Analytics\",\n",
       " 'My journey has been one of dedication, resilience, and a deeply personal mission to make education accessible to everyone. Coming from a humble background in Jamshedpur, Jharkhand, I know firsthand the challenges of pursuing quality education without financial ease. My early experiences motiva...']"
      ]
     },
     "execution_count": 211,
     "metadata": {},
     "output_type": "execute_result"
    }
   ],
   "source": [
    "texts = [doc.page_content for doc in docs]\n",
    "texts"
   ]
  },
  {
   "cell_type": "code",
   "execution_count": 212,
   "id": "680ccc07",
   "metadata": {},
   "outputs": [],
   "source": [
    "import time \n",
    "import numpy as np \n",
    "\n",
    "embeddings = []\n",
    "\n",
    "for i, embedding in enumerate(embeddings):\n",
    "    try:\n",
    "        print(f\"Processing chunk {i+1}/{len(texts)}...\")\n",
    "        embeddings.append(embedding)\n",
    "        time.sleep(1)  # Sleep to avoid hitting API rate limits\n",
    "    except Exception as e:\n",
    "        print(f\"Error processing chunk {i+1}: {e}\")\n",
    "            "
   ]
  },
  {
   "cell_type": "code",
   "execution_count": 213,
   "id": "25882284",
   "metadata": {},
   "outputs": [
    {
     "data": {
      "text/plain": [
       "[]"
      ]
     },
     "execution_count": 213,
     "metadata": {},
     "output_type": "execute_result"
    }
   ],
   "source": [
    "embeddings"
   ]
  },
  {
   "cell_type": "code",
   "execution_count": 214,
   "id": "bc264d39",
   "metadata": {},
   "outputs": [
    {
     "data": {
      "text/plain": [
       "['Making an Impact\\nHelping Millions of Students Succeed',\n",
       " \"Sudhanshu's commitment to affordable education wasn't just a business strategy—it was his life's mission. Over the years, iNeuron has helped over 1.5 million students from 34+ countries, providing them with the skills they need to succeed in today's competitive job market. Many of these students,\",\n",
       " 'Many of these students, like Sudhanshu himself, came from disadvantaged backgrounds. They saw iNeuron as a lifeline—an opportunity to rise above their circumstances.',\n",
       " 'In 2022, iNeuron was acquired by PhysicsWallah in a deal worth ₹250 crore. While this acquisition was a significant milestone, Sudhanshu remained focused on his mission. Even after the acquisition, iNeuron continued to offer some of the most affordable and accessible tech courses in the world.',\n",
       " \"The Entrepreneur and Teacher: Sudhanshu's Dual Legacy\",\n",
       " \"Sudhanshu's journey isn't just one of entrepreneurial success; it's also a story of dedication to teaching. Throughout his career, he has remained a passionate educator, constantly looking for ways to empower others through knowledge. Whether teaching courses in Big Data, Data Science, or\",\n",
       " 'in Big Data, Data Science, or programming, Sudhanshu has always sought to make complex subjects accessible to learners at all levels.',\n",
       " 'His commitment to affordable education has earned him the respect and admiration of countless students. Many credit Sudhanshu with changing their lives, helping them secure jobs, improve their skills, and break free from the limitations of their backgrounds.\\n\\nThe Journey',\n",
       " 'The Journey\\n\\nEarly Life and the Power of Education\\n\\nRising Through the Ranks of the Tech World\\n\\nThe Birth of iNeuron: Democratizing Education',\n",
       " 'The Foundation of Euron: Expanding the Mission\\nEarly Life and the Power of Education\\nEarly Life and the Power of Education',\n",
       " \"Sudhanshu Kumar's life is a story of triumph over adversity, driven by the belief in the transformative power of education. Born in Jamshedpur, Jharkhand, India, to a family of very modest means, Sudhanshu's early years were marked by financial hardship. His surroundings offered little opportunity,\",\n",
       " 'offered little opportunity, and resources were limited, yet he understood from a young age that education could be his ticket out of poverty.',\n",
       " 'While many would have been daunted by the lack of support and opportunity, Sudhanshu was relentless in his pursuit of knowledge. He knew that education had the power to change lives, and he was determined to leverage it to create a better future for himself and his family. Despite the numerous',\n",
       " 'family. Despite the numerous challenges along the way, Sudhanshu excelled academically, eventually earning a degree in Computer Science and Engineering (CSE).',\n",
       " 'After completing his education, Sudhanshu began his professional journey in the tech industry, working with prestigious companies like Wipro, Deloitte, Verizon Labs, and Ernst & Young. During this time, he gained expertise in various technologies and frameworks, including SAP WebDynpro, Fiori UI5',\n",
       " 'SAP WebDynpro, Fiori UI5 HANA, Java, Big Data, Data Analytics, and more. He became a well-rounded technologist, well-respected in his field.',\n",
       " 'Despite his growing success, Sudhanshu never forgot his roots. He knew that there were many others who, like him, came from humble backgrounds and were looking for an opportunity to change their lives through education. It was during this time that Sudhanshu realized a harsh truth: quality',\n",
       " 'a harsh truth: quality education was often inaccessible to those who needed it the most. The high cost of education barred millions of people from pursuing their dreams, especially in tech fields that required specialized skills.',\n",
       " 'Fueled by his passion for making education accessible, Sudhanshu decided to take action. In 2019, he founded iNeuron Intelligence Private Limited, an edtech platform that would make tech upskilling affordable and accessible for everyone. His mission was clear: to provide high-quality courses at a',\n",
       " 'high-quality courses at a price so low that even those from the most disadvantaged backgrounds could afford to learn.',\n",
       " 'iNeuron was designed to be more than just an online learning platform. It offered a comprehensive bundle of resources, including courses, books, hands-on projects, and live classes, making sure that learners could gain real-world, applicable skills. Most importantly, iNeuron was priced to ensure no',\n",
       " 'was priced to ensure no student would be left behind due to financial constraints.',\n",
       " \"The company quickly gained traction, thanks to Sudhanshu's focus on affordability and quality. In 2021, iNeuron raised $3 million in funding from S. Chand, a leading education publisher. This allowed iNeuron to expand its offerings and reach a larger audience.\",\n",
       " 'Building on the success of iNeuron, Sudhanshu is now leading Euron, a unified platform for tech upskilling. Euron is designed for enterprises, schools, colleges, government organizations, and individuals looking to improve their tech skills. The platform provides a comprehensive bundle of',\n",
       " \"a comprehensive bundle of resources, including courses, books, live classes, and projects. Euron's unique offering is its ability to provide licenses at scale—organizations can subscribe to provide their teams with unlimited access to learning materials for just 1600 INR per year per license.\",\n",
       " \"For individuals, Euron Plus offers a similar plan, priced at 2900 INR per year, giving learners access to all of Euron's content, along with 24/7 support through Euron Assist. The idea is simple: anyone, anywhere, should have the opportunity to upskill without financial barriers.\",\n",
       " 'The Euron Motto: Education for All, Without Limits',\n",
       " \"At the heart of Euron's philosophy is a single, powerful idea: Education for All, Without Limits. Sudhanshu believes that every person deserves the chance to learn, grow, and succeed, regardless of their financial situation or background. This belief is what drives Euron's mission to make tech\",\n",
       " \"Euron's mission to make tech education not just affordable but also accessible to anyone, anywhere in the world.\",\n",
       " 'Home >',\n",
       " 'Generative AI\\nGenerative AI with Cloud',\n",
       " 'Generative AI with Cloud is a practical course that combines generative AI techniques with cloud platforms like AWS, Azure, and GCP. Learn to deploy and scale models, integrate APIs, manage storage, and build intelligent applications using tools like Vertex AI, Bedrock, and OpenAI. Ideal for',\n",
       " 'and OpenAI. Ideal for real-world, cloud-powered AI solutions.',\n",
       " '🌐\\nEnglish\\nGenerative AI with Cloud\\nThis course is included in plans\\n\\n📚\\nContinue Learning\\nWhat you will get\\ntick-svg\\nCertificate of Completion\\n\\ntick-svg\\nWhatsApp Group Access\\n\\ntick-svg\\nEURI AI Tool Access\\n\\ntick-svg\\nResume AI Tool\\n\\ntick-svg\\nJob Portal Access\\n\\ntick-svg\\nAvni – AI Interview Coach',\n",
       " 'tick-svg\\nNo Prerequisites Required\\n\\ntick-svg\\nQuiz in Every Module\\n\\ntick-svg\\nChallenges in Every Module\\n\\ntick-svg\\nCareer-Ready Portfolio\\n\\ntick-svg\\nResources in all Module\\n\\ntick-svg\\nOne module release every Monday\\n\\nCourse content\\n12 sections • 100 Subtopics\\n\\nCollapse all sections',\n",
       " 'Introduction to Generative AI in the Cloud\\nTopic Icon\\nWhat is Generative AI in a Cloud Context?\\nTopic Icon\\nDifferences Between Local vs Cloud-Based Generative AI\\nTopic Icon\\nUse Cases: AI Agents, Chatbots, Text-to-Image, Code Assistants\\nTopic Icon',\n",
       " 'Topic Icon\\nCloud Provider Comparison: AWS vs Azure vs GCP vs Hugging Face vs OpenAI\\nTopic Icon\\nKey Components: Model APIs, Storage, Serverless Compute, GPU Instances, Vector DBs',\n",
       " 'GenAI Building Blocks & Architecture\\nTopic Icon\\nCore Architecture: Frontend ↔ API Layer ↔ Model ↔ Storage\\nTopic Icon\\nDeployment Flow: Prompt → Model API → Output → Logging\\nTopic Icon\\nCloud GenAI Architecture Patterns\\nTopic Icon\\nRAG Pipeline\\nTopic Icon\\nAgent Execution Flow\\nTopic Icon',\n",
       " 'Topic Icon\\nImage + Text Generation\\nTopic Icon\\nDev Tools: GitHub, VS Code, LangChain, Streamlit/Gradio, FastAPI',\n",
       " 'GenAI on AWS\\nTopic Icon\\nAWS Bedrock\\nTopic Icon\\nAccessing Claude, Titan, LLaMA via Bedrock\\nTopic Icon\\nBedrock API setup and playground\\nTopic Icon\\nAmazon SageMaker JumpStart\\nTopic Icon\\nDeploying Pre-trained Foundation Models (T5, Falcon)\\nTopic Icon\\nFine-Tuning & Inference Endpoint\\nTopic Icon',\n",
       " 'Topic Icon\\nHugging Face on SageMaker\\nTopic Icon\\nAWS Lambda + API Gateway\\nTopic Icon\\nServerless LLM pipelines\\nTopic Icon\\nEvent-driven prompt processing\\nTopic Icon\\nAWS S3 + DynamoDB\\nTopic Icon\\nStore prompt history, logs, and outputs\\nTopic Icon\\nHosting RAG Application\\nTopic Icon',\n",
       " 'Topic Icon\\nLLM + FAISS + OpenSearch + FastAPI',\n",
       " 'GenAI on Azure\\nTopic Icon\\nAzure OpenAI Service\\nTopic Icon\\nUsing GPT-4, Codex, and Embeddings via Azure\\nTopic Icon\\nRate limiting, usage quotas, regions\\nTopic Icon\\nAzure ML + Hugging Face\\nTopic Icon\\nFine-tune or deploy LLaMA/DistilGPT on managed compute\\nTopic Icon\\nAzure Functions for Inference',\n",
       " 'Azure Functions for Inference\\nTopic Icon\\nStateless REST APIs for prompt → response\\nTopic Icon\\nAzure Blob Storage & Cosmos DB\\nTopic Icon\\nFile + text chunk storage and metadata handling\\nTopic Icon\\nAzure AI Search + RAG Setup\\nTopic Icon\\nIndex unstructured data and use with GPT',\n",
       " 'GenAI on Google Cloud (GCP)\\nTopic Icon\\nGemini (Vertex AI Studio)\\nTopic Icon\\nGemini 1.5 Pro Prompting, JSON Structuring\\nTopic Icon\\nAPI key access & project setup\\nTopic Icon\\nVertex AI PaLM Models\\nTopic Icon\\nText & chat APIs\\nTopic Icon\\nEmbeddings + RAG in Vertex pipelines\\nTopic Icon',\n",
       " 'Topic Icon\\nCloud Functions & Cloud Run\\nTopic Icon\\nDeploy APIs for chatbots or assistants\\nTopic Icon\\nBigQuery + Cloud Storage\\nTopic Icon\\nLogging prompt-response cycles\\nTopic Icon\\nMetadata store for prompt experiments',\n",
       " 'Hugging Face & Open-Source Cloud Deployments\\nTopic Icon\\nHugging Face Inference Endpoints\\nTopic Icon\\nDeploy custom models (Falcon, Mistral, Bloom)\\nTopic Icon\\nControl security, auth, autoscaling\\nTopic Icon\\nSpaces with Gradio & Streamlit\\nTopic Icon\\nBuild GenAI UI on Hugging Face Spaces\\nTopic Icon',\n",
       " 'Topic Icon\\nShare projects publicly or privately\\nTopic Icon\\nWeights & Biases for Prompt/Model Tracking\\nTopic Icon\\nOpen-Source on GPU VMs (EC2/GCP/Azure)\\nTopic Icon\\nRun models via Docker (text-generation-webui, llama.cpp)\\nTopic Icon\\nModel quantization + LoRA',\n",
       " 'Vector DBs & Embedding Integration in Cloud\\nTopic Icon\\nEmbedding Models\\nTopic Icon\\nOpenAI, Cohere, Hugging Face, Gemini Text Embedding APIs\\nTopic Icon\\nCloud Vector Stores\\nTopic Icon\\nPinecone\\nTopic Icon\\nWeaviate on GCP\\nTopic Icon\\nChromaDB on EC2 / Azure\\nTopic Icon\\nQdrant Cloud\\nTopic Icon',\n",
       " 'Qdrant Cloud\\nTopic Icon\\nConnecting LangChain / LlamaIndex\\nTopic Icon\\nRAG Pipelines in Cloud + Vector Store + UI\\nPrompt Engineering & LLMOps in Cloud\\nTopic Icon\\nPrompt Lifecycle in Production\\nTopic Icon\\nPrompt Templates & Reusability (LangChain + PromptLayer)\\nTopic Icon',\n",
       " 'Topic Icon\\nLLM Evaluation: GPT Judge, Trulens\\nTopic Icon\\nCI/CD for GenAI Apps\\nTopic Icon\\nGitHub Actions, DockerHub\\nTopic Icon\\nAuto-deploy Streamlit/FastAPI via Railway/Render/Cloud Run\\nAgents, Tools & Cloud APIs\\nTopic Icon\\nLangChain Agents + Cloud Functions\\nTopic Icon',\n",
       " 'Topic Icon\\nCrewAI Agents Hosted on Render/EC2\\nTopic Icon\\nOpenAI Tools (Function Calling)\\nTopic Icon\\nRetrieval APIs + Calendar APIs + Google Sheets APIs\\nTopic Icon\\nZapier/N8N Integration in Agent Flows\\nGenAI Monitoring & Logging\\nTopic Icon\\nLog Everything: Prompt, Completion, User Input, Token Usage',\n",
       " 'Topic Icon\\nCloud Observability Tools\\nTopic Icon\\nAWS CloudWatch\\nTopic Icon\\nAzure Monitor\\nTopic Icon\\nGCP Logging\\nTopic Icon\\nDashboarding with Grafana / Superset\\nTopic Icon\\nFail-Safe Mechanisms (Fallback Prompts, Retry on Token Errors)\\nSecurity, Compliance & Cost Management\\nTopic Icon',\n",
       " 'Topic Icon\\nSecrets Management (AWS Secrets Manager, Azure Key Vault)\\nTopic Icon\\nSecure Access to APIs (JWT, OAuth, API Keys)\\nTopic Icon\\nModel Cost Estimation (OpenAI Token Cost, API Cost Logs)\\nTopic Icon\\nUsage Quotas & Budget Alerts\\nTopic Icon\\nCompliance Guidelines: SOC2, HIPAA, GDPR in GenAI Apps',\n",
       " 'Capstone Projects (Cloud-Based)\\nTopic Icon\\nProject 1: PDF + Website Knowledge Chatbot\\nTopic Icon\\nGCP + Gemini + FAISS + Streamlit UI\\nTopic Icon\\nProject 2: Image + Text Generator\\nTopic Icon\\nAWS Bedrock (Titan + Claude) + Gradio + S3 Storage\\nTopic Icon\\nProject 3: Serverless Resume Analyzer\\nTopic Icon',\n",
       " 'Topic Icon\\nAzure OpenAI + Functions + CosmosDB + Blob Storage\\nTopic Icon\\nProject 4: LLM Agent + Tool Integration\\nTopic Icon\\nCrewAI + FastAPI + N8N on EC2\\nTopic Icon\\nProject 5: Enterprise GenAI Analytics App\\nTopic Icon\\nPrompt Evaluator + Feedback + Logging Dashboard + Multi-user Auth',\n",
       " \"Show less sections\\nMeet Your Instructors\\nSudhanshu Kumar's profile\\nSudhanshu Kumar\\nProgramming | Data Science | Machine Learning | Deep Learning | NLP | Computer Vision | Generative AI | Big Data | Data Analytics\",\n",
       " 'My journey has been one of dedication, resilience, and a deeply personal mission to make education accessible to everyone. Coming from a humble background in Jamshedpur, Jharkhand, I know firsthand the challenges of pursuing quality education without financial ease. My early experiences motiva...']"
      ]
     },
     "execution_count": 214,
     "metadata": {},
     "output_type": "execute_result"
    }
   ],
   "source": [
    "texts"
   ]
  },
  {
   "cell_type": "code",
   "execution_count": 215,
   "id": "34b9d446",
   "metadata": {},
   "outputs": [
    {
     "name": "stdout",
     "output_type": "stream",
     "text": [
      "Processed 1/58: Making an Impact\n",
      "Helping Milli... -> [ 0.03395454 -0.0469909   0.03878181  0.07887272  0.02695909]\n",
      "Processed 2/58: Sudhanshu's commitment to affo... -> [-0.01364236  0.00639423  0.05721121  0.02440282  0.04653747]\n",
      "Processed 3/58: Many of these students, like S... -> [-0.02204193 -0.00722562  0.00345266  0.03793968  0.04818918]\n",
      "Processed 4/58: In 2022, iNeuron was acquired ... -> [-0.04330519 -0.05195538  0.02764536  0.0217475   0.03644469]\n",
      "Processed 5/58: The Entrepreneur and Teacher: ... -> [0.01671011 0.01011956 0.04287479 0.01667061 0.00875009]\n",
      "Processed 6/58: Sudhanshu's journey isn't just... -> [-0.00970297 -0.00214104  0.0598214   0.02851626  0.0276796 ]\n",
      "Processed 7/58: in Big Data, Data Science, or ... -> [-0.00568316 -0.01421538  0.03512035 -0.01586388  0.05972848]\n",
      "Processed 8/58: His commitment to affordable e... -> [ 0.01117547 -0.04308555  0.04391897  0.05712749  0.01579719]\n"
     ]
    }
   ],
   "source": [
    "valid_texts = []\n",
    "for i, text in enumerate(texts[0:8]):\n",
    "    clean_text = text.strip()\n",
    "    if not clean_text:\n",
    "        print(f\"Skipping empty text at index {i}\")\n",
    "        continue\n",
    "    emb = generate_embeddings(text)\n",
    "    embeddings.append(emb)\n",
    "    valid_texts.append(text)\n",
    "    print(f\"Processed {i+1}/{len(texts)}: {text[:30]}... -> {emb[:5]}\")\n"
   ]
  },
  {
   "cell_type": "code",
   "execution_count": 216,
   "id": "0dd51150",
   "metadata": {},
   "outputs": [
    {
     "data": {
      "text/plain": [
       "[array([ 0.03395454, -0.0469909 ,  0.03878181, ..., -0.02398636,\n",
       "        -0.01851818,  0.01633636]),\n",
       " array([-0.01364236,  0.00639423,  0.05721121, ..., -0.00413274,\n",
       "        -0.00975312, -0.00021493]),\n",
       " array([-0.02204193, -0.00722562,  0.00345266, ..., -0.00756314,\n",
       "        -0.02643654, -0.00205438]),\n",
       " array([-0.04330519, -0.05195538,  0.02764536, ..., -0.03267549,\n",
       "         0.01820879,  0.03354321]),\n",
       " array([ 0.01671011,  0.01011956,  0.04287479, ..., -0.04371754,\n",
       "         0.01135734, -0.00684733]),\n",
       " array([-0.00970297, -0.00214104,  0.0598214 , ..., -0.01701214,\n",
       "        -0.01090567,  0.00101315]),\n",
       " array([-0.00568316, -0.01421538,  0.03512035, ..., -0.00705393,\n",
       "         0.00747801,  0.00206959]),\n",
       " array([ 0.01117547, -0.04308555,  0.04391897, ...,  0.00480482,\n",
       "        -0.02457341,  0.01011475])]"
      ]
     },
     "execution_count": 216,
     "metadata": {},
     "output_type": "execute_result"
    }
   ],
   "source": [
    "embeddings"
   ]
  },
  {
   "cell_type": "code",
   "execution_count": 217,
   "id": "83f06e1e",
   "metadata": {},
   "outputs": [],
   "source": [
    "import faiss\n",
    "from langchain.vectorstores.faiss import FAISS\n",
    "from langchain_core.documents import Document\n",
    "\n"
   ]
  },
  {
   "cell_type": "code",
   "execution_count": 218,
   "id": "bd090c61",
   "metadata": {},
   "outputs": [],
   "source": [
    "dimensions = embeddings[0].shape[0]\n",
    "faiss_index = faiss.IndexFlatL2(dimensions)  # Create a FAISS index for L2 distance\n",
    "  # Add embeddings to the index\n"
   ]
  },
  {
   "cell_type": "code",
   "execution_count": 219,
   "id": "0f24ec2d",
   "metadata": {},
   "outputs": [
    {
     "data": {
      "text/plain": [
       "<faiss.swigfaiss_avx2.IndexFlatL2; proxy of <Swig Object of type 'faiss::IndexFlatL2 *' at 0x000001ACCDD01980> >"
      ]
     },
     "execution_count": 219,
     "metadata": {},
     "output_type": "execute_result"
    }
   ],
   "source": [
    "faiss_index"
   ]
  },
  {
   "cell_type": "code",
   "execution_count": 220,
   "id": "43c698c3",
   "metadata": {},
   "outputs": [],
   "source": [
    "faiss_index.add(np.array(embeddings).astype('float32'))  "
   ]
  },
  {
   "cell_type": "code",
   "execution_count": 221,
   "id": "87a13a09",
   "metadata": {},
   "outputs": [
    {
     "data": {
      "text/plain": [
       "[Document(metadata={'source': 'knowledgebase.txt'}, page_content='Making an Impact\\nHelping Millions of Students Succeed'),\n",
       " Document(metadata={'source': 'knowledgebase.txt'}, page_content=\"Sudhanshu's commitment to affordable education wasn't just a business strategy—it was his life's mission. Over the years, iNeuron has helped over 1.5 million students from 34+ countries, providing them with the skills they need to succeed in today's competitive job market. Many of these students,\"),\n",
       " Document(metadata={'source': 'knowledgebase.txt'}, page_content='Many of these students, like Sudhanshu himself, came from disadvantaged backgrounds. They saw iNeuron as a lifeline—an opportunity to rise above their circumstances.'),\n",
       " Document(metadata={'source': 'knowledgebase.txt'}, page_content='In 2022, iNeuron was acquired by PhysicsWallah in a deal worth ₹250 crore. While this acquisition was a significant milestone, Sudhanshu remained focused on his mission. Even after the acquisition, iNeuron continued to offer some of the most affordable and accessible tech courses in the world.'),\n",
       " Document(metadata={'source': 'knowledgebase.txt'}, page_content=\"The Entrepreneur and Teacher: Sudhanshu's Dual Legacy\"),\n",
       " Document(metadata={'source': 'knowledgebase.txt'}, page_content=\"Sudhanshu's journey isn't just one of entrepreneurial success; it's also a story of dedication to teaching. Throughout his career, he has remained a passionate educator, constantly looking for ways to empower others through knowledge. Whether teaching courses in Big Data, Data Science, or\"),\n",
       " Document(metadata={'source': 'knowledgebase.txt'}, page_content='in Big Data, Data Science, or programming, Sudhanshu has always sought to make complex subjects accessible to learners at all levels.'),\n",
       " Document(metadata={'source': 'knowledgebase.txt'}, page_content='His commitment to affordable education has earned him the respect and admiration of countless students. Many credit Sudhanshu with changing their lives, helping them secure jobs, improve their skills, and break free from the limitations of their backgrounds.\\n\\nThe Journey'),\n",
       " Document(metadata={'source': 'knowledgebase.txt'}, page_content='The Journey\\n\\nEarly Life and the Power of Education\\n\\nRising Through the Ranks of the Tech World\\n\\nThe Birth of iNeuron: Democratizing Education'),\n",
       " Document(metadata={'source': 'knowledgebase.txt'}, page_content='The Foundation of Euron: Expanding the Mission\\nEarly Life and the Power of Education\\nEarly Life and the Power of Education')]"
      ]
     },
     "execution_count": 221,
     "metadata": {},
     "output_type": "execute_result"
    }
   ],
   "source": [
    "docs[0:10]\n"
   ]
  },
  {
   "cell_type": "code",
   "execution_count": 222,
   "id": "19b911b8",
   "metadata": {},
   "outputs": [
    {
     "name": "stdout",
     "output_type": "stream",
     "text": [
      "{'id': 'chatcmpl-BiiZ6lJ4VxjV8WiQ6dtMStKO5MA2b', 'object': 'chat.completion', 'created': 1749997440, 'model': 'gpt-4.1-nano', 'choices': [{'index': 0, 'message': {'role': 'assistant', 'content': \"Sure! Could you please specify which Sudhanshu you're referring to? It’s a common name, and I want to make sure I provide you with accurate information about the right person.\"}, 'finish_reason': 'stop'}], 'usage': {'prompt_tokens': 18, 'completion_tokens': 38, 'total_tokens': 56}}\n"
     ]
    },
    {
     "data": {
      "text/plain": [
       "\"Sure! Could you please specify which Sudhanshu you're referring to? It’s a common name, and I want to make sure I provide you with accurate information about the right person.\""
      ]
     },
     "execution_count": 222,
     "metadata": {},
     "output_type": "execute_result"
    }
   ],
   "source": [
    "generate_response(\"Tell me somethign about sudhanshu \")"
   ]
  },
  {
   "cell_type": "code",
   "execution_count": 223,
   "id": "dc1faaf3",
   "metadata": {},
   "outputs": [],
   "source": [
    "from langchain.chains import RetrievalQA"
   ]
  },
  {
   "cell_type": "code",
   "execution_count": 224,
   "id": "306127d5",
   "metadata": {},
   "outputs": [],
   "source": [
    "documents = [Document(page_content=text) for text in texts[:len(embeddings)]]"
   ]
  },
  {
   "cell_type": "code",
   "execution_count": 225,
   "id": "0831c69a",
   "metadata": {},
   "outputs": [
    {
     "data": {
      "text/plain": [
       "[array([ 0.03395454, -0.0469909 ,  0.03878181, ..., -0.02398636,\n",
       "        -0.01851818,  0.01633636]),\n",
       " array([-0.01364236,  0.00639423,  0.05721121, ..., -0.00413274,\n",
       "        -0.00975312, -0.00021493]),\n",
       " array([-0.02204193, -0.00722562,  0.00345266, ..., -0.00756314,\n",
       "        -0.02643654, -0.00205438]),\n",
       " array([-0.04330519, -0.05195538,  0.02764536, ..., -0.03267549,\n",
       "         0.01820879,  0.03354321]),\n",
       " array([ 0.01671011,  0.01011956,  0.04287479, ..., -0.04371754,\n",
       "         0.01135734, -0.00684733]),\n",
       " array([-0.00970297, -0.00214104,  0.0598214 , ..., -0.01701214,\n",
       "        -0.01090567,  0.00101315]),\n",
       " array([-0.00568316, -0.01421538,  0.03512035, ..., -0.00705393,\n",
       "         0.00747801,  0.00206959]),\n",
       " array([ 0.01117547, -0.04308555,  0.04391897, ...,  0.00480482,\n",
       "        -0.02457341,  0.01011475])]"
      ]
     },
     "execution_count": 225,
     "metadata": {},
     "output_type": "execute_result"
    }
   ],
   "source": [
    "embeddings "
   ]
  },
  {
   "cell_type": "code",
   "execution_count": 227,
   "id": "f6f114d7",
   "metadata": {},
   "outputs": [
    {
     "name": "stderr",
     "output_type": "stream",
     "text": [
      "`embedding_function` is expected to be an Embeddings object, support for passing in a function will soon be removed.\n"
     ]
    },
    {
     "data": {
      "text/plain": [
       "['795691ff-3939-4350-b6bf-b6c6e95571b7',\n",
       " 'f8516ee7-54f8-4f6f-ab7b-0709ba54adce',\n",
       " '6346ae4c-0dc8-44a8-be6a-5b06e9e8bf35',\n",
       " 'ffed5d7f-8a3a-4888-927a-0ea9477ec0b0',\n",
       " 'e4ec61d5-624a-406f-82a0-ba2e3c617fe0',\n",
       " 'c83bcbc7-b569-4549-ad46-d2b0f9376b80',\n",
       " '7aa35473-7d4b-4c17-944a-5233f4515ac1',\n",
       " 'aa617731-ee5a-4d50-a83d-75888ece325f']"
      ]
     },
     "execution_count": 227,
     "metadata": {},
     "output_type": "execute_result"
    }
   ],
   "source": [
    "from langchain.vectorstores.faiss import FAISS\n",
    "from langchain.docstore.document import Document\n",
    "document = [Document(page_content=text) for text in texts[:len(embeddings)]]\n",
    "\n",
    "import faiss\n",
    "from langchain_community.docstore.in_memory import InMemoryDocstore\n",
    "from langchain_community.vectorstores import FAISS\n",
    "\n",
    "faiss_index = faiss.IndexFlatL2(dimensions)\n",
    "vector_store = FAISS(\n",
    "    embedding_function=generate_embeddings,\n",
    "    index=faiss_index,\n",
    "    docstore=InMemoryDocstore(),\n",
    "    index_to_docstore_id={},\n",
    ")\n",
    "vector_store.add_documents(document)"
   ]
  },
  {
   "cell_type": "code",
   "execution_count": 228,
   "id": "767cce46",
   "metadata": {},
   "outputs": [],
   "source": [
    "vector_store.save_local(\"faiss_index\")"
   ]
  },
  {
   "cell_type": "code",
   "execution_count": 229,
   "id": "c9df1a0f",
   "metadata": {},
   "outputs": [],
   "source": [
    "retriver = vector_store.as_retriever( search_kwargs={\"k\": 3})"
   ]
  },
  {
   "cell_type": "code",
   "execution_count": 231,
   "id": "df14b186",
   "metadata": {},
   "outputs": [
    {
     "name": "stdout",
     "output_type": "stream",
     "text": [
      "Through whispers of the ticking clock we go,  \n",
      "A journey woven in the threads of flow,  \n",
      "Beyond the present's fleeting, fragile glow,  \n",
      "Where past and future intertwine and grow.\n",
      "\n",
      "We chase the shadow of a moment lost,  \n",
      "A whisper of what once was, at what cost?  \n",
      "In loops of time, our memories embossed,  \n",
      "A tapestry of lines, both gained and tossed.\n",
      "\n",
      "The seconds stretch to years, then vanish light,  \n",
      "As we traverse corridors in endless night,  \n",
      "Seeking the dawn that breaks beyond our sight,  \n",
      "In realms where yesterday and tomorrow unite.\n",
      "\n",
      "Oh, boundless voyage through the sands of time,  \n",
      "A dance of moments, silent, so divine,  \n",
      "To hold eternity within a rhyme,  \n",
      "And glimpse the future's vast design.\n"
     ]
    }
   ],
   "source": [
    "from euriai import EuriaiLangChainLLM\n",
    "\n",
    "llm = EuriaiLangChainLLM(\n",
    "    api_key=os.getenv('EURI_API_KEY'),  # Ensure you set this environment variable\n",
    "    model=\"gpt-4.1-nano\",\n",
    "    temperature=0,\n",
    "    max_tokens=300\n",
    ")\n",
    "\n",
    "print(llm.invoke(\"Write a poem about time travel.\"))"
   ]
  },
  {
   "cell_type": "code",
   "execution_count": 232,
   "id": "e407c53e",
   "metadata": {},
   "outputs": [],
   "source": [
    "rag_chain = RetrievalQA.from_chain_type(\n",
    "    llm=llm,\n",
    "    retriever = retriver)"
   ]
  },
  {
   "cell_type": "code",
   "execution_count": null,
   "id": "892c8121",
   "metadata": {},
   "outputs": [],
   "source": [
    "rag_chain.run(\"What is the capital of France?\")"
   ]
  },
  {
   "cell_type": "code",
   "execution_count": 235,
   "id": "0f25eaa1",
   "metadata": {},
   "outputs": [
    {
     "name": "stderr",
     "output_type": "stream",
     "text": [
      "C:\\Users\\Deepu\\AppData\\Local\\Temp\\ipykernel_4488\\1975610730.py:1: LangChainDeprecationWarning: The method `Chain.__call__` was deprecated in langchain 0.1.0 and will be removed in 1.0. Use :meth:`~invoke` instead.\n",
      "  rag_chain(\"Whow is Sudhanshu?\")\n"
     ]
    },
    {
     "data": {
      "text/plain": [
       "{'query': 'Whow is Sudhanshu?',\n",
       " 'result': 'Sudhanshu is an educator and entrepreneur dedicated to making complex subjects like Big Data and Data Science accessible to learners at all levels. He is known for his commitment to affordable education and has helped many students improve their skills, secure jobs, and transform their lives through his teaching.'}"
      ]
     },
     "execution_count": 235,
     "metadata": {},
     "output_type": "execute_result"
    }
   ],
   "source": [
    "rag_chain(\"Whow is Sudhanshu?\")"
   ]
  },
  {
   "cell_type": "code",
   "execution_count": 237,
   "id": "dba2ec18",
   "metadata": {},
   "outputs": [
    {
     "data": {
      "text/plain": [
       "'The company where Sudhanshu is working is iNeuron.'"
      ]
     },
     "execution_count": 237,
     "metadata": {},
     "output_type": "execute_result"
    }
   ],
   "source": [
    "rag_chain.run(\"give me the company where sudhanshu is working\")"
   ]
  },
  {
   "cell_type": "code",
   "execution_count": 238,
   "id": "6d3a3f70",
   "metadata": {},
   "outputs": [
    {
     "name": "stdout",
     "output_type": "stream",
     "text": [
      "{'id': 'chatcmpl-BiiiJFl9oq87fpiAoL3C1skxVpgPO', 'object': 'chat.completion', 'created': 1749998011, 'model': 'gpt-4.1-nano', 'choices': [{'index': 0, 'message': {'role': 'assistant', 'content': \"Sudhasnhu appears to be a username or online pseudonym, but there is no widely known public figure, celebrity, or notable individual by that name based on available information up to October 2023. If you can provide more context or specify the field or platform where you've encountered this name, I may be able to assist you better.\"}, 'finish_reason': 'stop'}], 'usage': {'prompt_tokens': 14, 'completion_tokens': 69, 'total_tokens': 83}}\n"
     ]
    },
    {
     "data": {
      "text/plain": [
       "\"Sudhasnhu appears to be a username or online pseudonym, but there is no widely known public figure, celebrity, or notable individual by that name based on available information up to October 2023. If you can provide more context or specify the field or platform where you've encountered this name, I may be able to assist you better.\""
      ]
     },
     "execution_count": 238,
     "metadata": {},
     "output_type": "execute_result"
    }
   ],
   "source": [
    "generate_response(\"Who is sudhasnhu?\")"
   ]
  },
  {
   "cell_type": "code",
   "execution_count": null,
   "id": "efb8010b",
   "metadata": {},
   "outputs": [],
   "source": []
  }
 ],
 "metadata": {
  "kernelspec": {
   "display_name": "gpu-py310",
   "language": "python",
   "name": "python3"
  },
  "language_info": {
   "codemirror_mode": {
    "name": "ipython",
    "version": 3
   },
   "file_extension": ".py",
   "mimetype": "text/x-python",
   "name": "python",
   "nbconvert_exporter": "python",
   "pygments_lexer": "ipython3",
   "version": "3.10.18"
  }
 },
 "nbformat": 4,
 "nbformat_minor": 5
}
